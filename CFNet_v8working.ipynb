{
  "nbformat": 4,
  "nbformat_minor": 0,
  "metadata": {
    "colab": {
      "name": "CFNet v8working.ipynb",
      "provenance": [],
      "collapsed_sections": [
        "kGeu9kx2xZTG",
        "_LrsNBEyarjQ",
        "fpVrFae3bQxt",
        "W1Lc1E-AbvIM",
        "l6Kph10Ab9LY"
      ],
      "authorship_tag": "ABX9TyNDhk/nbAwEWOm+/K98zbKp",
      "include_colab_link": true
    },
    "kernelspec": {
      "name": "python3",
      "display_name": "Python 3"
    },
    "accelerator": "GPU"
  },
  "cells": [
    {
      "cell_type": "markdown",
      "metadata": {
        "id": "view-in-github",
        "colab_type": "text"
      },
      "source": [
        "<a href=\"https://colab.research.google.com/github/AdityaSamantaroy/Recommendation-Engine/blob/master/CFNet_v8working.ipynb\" target=\"_parent\"><img src=\"https://colab.research.google.com/assets/colab-badge.svg\" alt=\"Open In Colab\"/></a>"
      ]
    },
    {
      "cell_type": "markdown",
      "metadata": {
        "id": "J64RgrLPsVPD",
        "colab_type": "text"
      },
      "source": [
        "refactored. tuned. hparam. hitrate has bug. added goals"
      ]
    },
    {
      "cell_type": "markdown",
      "metadata": {
        "id": "MmDrXVsxYcyg",
        "colab_type": "text"
      },
      "source": [
        "# Imports, loading datasets"
      ]
    },
    {
      "cell_type": "code",
      "metadata": {
        "id": "7FEcBdnVFAc8",
        "colab_type": "code",
        "colab": {}
      },
      "source": [
        "import os\n",
        "import matplotlib.pyplot as plt\n",
        "import numpy as np\n",
        "import pandas as pd\n",
        "import tensorflow as tf\n",
        "from zipfile import ZipFile\n",
        "\n",
        "\n",
        "from pathlib import Path\n",
        "from tensorflow import keras\n",
        "# from tf.keras.layers import Embedding\n",
        "# import tensorflow_datasets as tfds"
      ],
      "execution_count": null,
      "outputs": []
    },
    {
      "cell_type": "markdown",
      "metadata": {
        "id": "qz6I55nNMFeO",
        "colab_type": "text"
      },
      "source": [
        ""
      ]
    },
    {
      "cell_type": "code",
      "metadata": {
        "id": "HFeBM4cIFD_T",
        "colab_type": "code",
        "colab": {
          "base_uri": "https://localhost:8080/",
          "height": 122
        },
        "outputId": "ad4383d5-f1a6-4741-9ac0-99f159f1eb53"
      },
      "source": [
        "from google.colab import drive\n",
        "\n",
        "#mount gdrive\n",
        "drive.mount('/content/gdrive')"
      ],
      "execution_count": null,
      "outputs": [
        {
          "output_type": "stream",
          "text": [
            "Go to this URL in a browser: https://accounts.google.com/o/oauth2/auth?client_id=947318989803-6bn6qk8qdgf4n4g3pfee6491hc0brc4i.apps.googleusercontent.com&redirect_uri=urn%3aietf%3awg%3aoauth%3a2.0%3aoob&scope=email%20https%3a%2f%2fwww.googleapis.com%2fauth%2fdocs.test%20https%3a%2f%2fwww.googleapis.com%2fauth%2fdrive%20https%3a%2f%2fwww.googleapis.com%2fauth%2fdrive.photos.readonly%20https%3a%2f%2fwww.googleapis.com%2fauth%2fpeopleapi.readonly&response_type=code\n",
            "\n",
            "Enter your authorization code:\n",
            "··········\n",
            "Mounted at /content/gdrive\n"
          ],
          "name": "stdout"
        }
      ]
    },
    {
      "cell_type": "code",
      "metadata": {
        "id": "cdostPx4sSo_",
        "colab_type": "code",
        "colab": {}
      },
      "source": [
        "million = True"
      ],
      "execution_count": null,
      "outputs": []
    },
    {
      "cell_type": "markdown",
      "metadata": {
        "id": "iLPDMK1DF3fT",
        "colab_type": "text"
      },
      "source": [
        "Mount Google Drive and create necessary directories"
      ]
    },
    {
      "cell_type": "code",
      "metadata": {
        "id": "8twaAnRXFIQ3",
        "colab_type": "code",
        "colab": {}
      },
      "source": [
        "if million == False:\n",
        "\n",
        "  movielens_data_file_url = (\n",
        "      \"http://files.grouplens.org/datasets/movielens/ml-latest-small.zip\"\n",
        "  )\n",
        "\n",
        "  # movielens_data_file_url_1m = (\n",
        "  #     \"http://files.grouplens.org/datasets/movielens/ml-1m.zip\"\n",
        "  # )\n",
        "  # \"http://files.grouplens.org/datasets/movielens/ml-100k.zip\"\n",
        "\n",
        "  base_dir =  \"/content/gdrive/My Drive/Machine Learning/movielens/\" #\"/content/gdrive/My Drive/Machine Learning/movielens1m/\"\n",
        "  if not os.path.isdir(base_dir):\n",
        "    os.makedirs(base_dir)\n",
        "\n",
        "  if not os.path.isfile(base_dir + \"data.zip\"):\n",
        "    dataset_zip = tf.keras.utils.get_file(\n",
        "        fname=base_dir + \"data.zip\", \n",
        "        origin=movielens_data_file_url, \n",
        "        # extract=True,\n",
        "    )\n",
        "    print(dataset_zip)\n",
        "\n",
        "  if not os.path.isdir(base_dir + \"data/\"):\n",
        "    !unzip \"/content/gdrive/My Drive/Machine Learning/movielens/data.zip\" -d \"/content/gdrive/My Drive/Machine Learning/movielens/data\"\n",
        "\n",
        "  root_dir = base_dir +  \"data/ml-latest-small/\" #\"data/ml-1m/\"\n",
        "  ratings_dir = root_dir + \"ratings.csv\"\n",
        "  movies_dir = root_dir + \"movies.csv\"\n",
        "\n",
        "\n",
        "\n",
        "else:\n",
        "  movielens_data_file_url_1m = (\n",
        "      \"http://files.grouplens.org/datasets/movielens/ml-1m.zip\"\n",
        "  )\n",
        "  # movielens_data_file_url = (\n",
        "  #     \"http://files.grouplens.org/datasets/movielens/ml-latest-small.zip\"\n",
        "  # )\n",
        "  # \"http://files.grouplens.org/datasets/movielens/ml-100k.zip\"\n",
        "\n",
        "  base_dir =  \"/content/gdrive/My Drive/Machine Learning/movielens1m/\"#\"/content/gdrive/My Drive/Machine Learning/movielens/\" #\n",
        "  if not os.path.isdir(base_dir):\n",
        "    os.makedirs(base_dir)\n",
        "\n",
        "  if not os.path.isfile(base_dir + \"data.zip\"):\n",
        "    dataset_zip = tf.keras.utils.get_file(\n",
        "        fname=base_dir + \"data.zip\", \n",
        "        origin=movielens_data_file_url_1m, \n",
        "        # extract=True,\n",
        "    )\n",
        "    print(dataset_zip)\n",
        "\n",
        "  if not os.path.isdir(base_dir + \"data/\"):\n",
        "    !unzip \"/content/gdrive/My Drive/Machine Learning/movielens1m/data.zip\" -d \"/content/gdrive/My Drive/Machine Learning/movielens1m/data\"\n",
        "\n",
        "  root_dir = base_dir +  \"data/ml-1m/\"#\"data/ml-latest-small/\" #\n",
        "  ratings_dir = root_dir + \"ratings.dat\"\n",
        "  movies_dir = root_dir + \"movies.dat\"\n",
        "\n"
      ],
      "execution_count": null,
      "outputs": []
    },
    {
      "cell_type": "code",
      "metadata": {
        "id": "8ToDscWgrDhT",
        "colab_type": "code",
        "colab": {}
      },
      "source": [
        "\n",
        "\n"
      ],
      "execution_count": null,
      "outputs": []
    },
    {
      "cell_type": "markdown",
      "metadata": {
        "id": "Irlura-EGAP8",
        "colab_type": "text"
      },
      "source": [
        "Load the datasets"
      ]
    },
    {
      "cell_type": "code",
      "metadata": {
        "id": "bik8HodsFMVE",
        "colab_type": "code",
        "colab": {
          "base_uri": "https://localhost:8080/",
          "height": 71
        },
        "outputId": "f558c23c-1e0d-4077-989d-0ff4d105679e"
      },
      "source": [
        "if million == False:\n",
        "  df_ratings = pd.read_csv(ratings_dir)\n",
        "  # df_ratings\n",
        "else:\n",
        "  df_ratings = pd.read_csv(ratings_dir, delimiter='::', header = None)\n",
        "  df_ratings.columns = ['userId', 'movieId', 'rating', 'timestamp']\n",
        "  # df_ratings"
      ],
      "execution_count": null,
      "outputs": [
        {
          "output_type": "stream",
          "text": [
            "/usr/local/lib/python3.6/dist-packages/ipykernel_launcher.py:5: ParserWarning: Falling back to the 'python' engine because the 'c' engine does not support regex separators (separators > 1 char and different from '\\s+' are interpreted as regex); you can avoid this warning by specifying engine='python'.\n",
            "  \"\"\"\n"
          ],
          "name": "stderr"
        }
      ]
    },
    {
      "cell_type": "code",
      "metadata": {
        "id": "lN6v6GPkuUi9",
        "colab_type": "code",
        "colab": {
          "base_uri": "https://localhost:8080/",
          "height": 413
        },
        "outputId": "d7fcec4a-98f2-4b9b-ddf4-fb0dc1381e36"
      },
      "source": [
        "df_ratings"
      ],
      "execution_count": null,
      "outputs": [
        {
          "output_type": "execute_result",
          "data": {
            "text/html": [
              "<div>\n",
              "<style scoped>\n",
              "    .dataframe tbody tr th:only-of-type {\n",
              "        vertical-align: middle;\n",
              "    }\n",
              "\n",
              "    .dataframe tbody tr th {\n",
              "        vertical-align: top;\n",
              "    }\n",
              "\n",
              "    .dataframe thead th {\n",
              "        text-align: right;\n",
              "    }\n",
              "</style>\n",
              "<table border=\"1\" class=\"dataframe\">\n",
              "  <thead>\n",
              "    <tr style=\"text-align: right;\">\n",
              "      <th></th>\n",
              "      <th>userId</th>\n",
              "      <th>movieId</th>\n",
              "      <th>rating</th>\n",
              "      <th>timestamp</th>\n",
              "    </tr>\n",
              "  </thead>\n",
              "  <tbody>\n",
              "    <tr>\n",
              "      <th>0</th>\n",
              "      <td>1</td>\n",
              "      <td>1193</td>\n",
              "      <td>5</td>\n",
              "      <td>978300760</td>\n",
              "    </tr>\n",
              "    <tr>\n",
              "      <th>1</th>\n",
              "      <td>1</td>\n",
              "      <td>661</td>\n",
              "      <td>3</td>\n",
              "      <td>978302109</td>\n",
              "    </tr>\n",
              "    <tr>\n",
              "      <th>2</th>\n",
              "      <td>1</td>\n",
              "      <td>914</td>\n",
              "      <td>3</td>\n",
              "      <td>978301968</td>\n",
              "    </tr>\n",
              "    <tr>\n",
              "      <th>3</th>\n",
              "      <td>1</td>\n",
              "      <td>3408</td>\n",
              "      <td>4</td>\n",
              "      <td>978300275</td>\n",
              "    </tr>\n",
              "    <tr>\n",
              "      <th>4</th>\n",
              "      <td>1</td>\n",
              "      <td>2355</td>\n",
              "      <td>5</td>\n",
              "      <td>978824291</td>\n",
              "    </tr>\n",
              "    <tr>\n",
              "      <th>...</th>\n",
              "      <td>...</td>\n",
              "      <td>...</td>\n",
              "      <td>...</td>\n",
              "      <td>...</td>\n",
              "    </tr>\n",
              "    <tr>\n",
              "      <th>1000204</th>\n",
              "      <td>6040</td>\n",
              "      <td>1091</td>\n",
              "      <td>1</td>\n",
              "      <td>956716541</td>\n",
              "    </tr>\n",
              "    <tr>\n",
              "      <th>1000205</th>\n",
              "      <td>6040</td>\n",
              "      <td>1094</td>\n",
              "      <td>5</td>\n",
              "      <td>956704887</td>\n",
              "    </tr>\n",
              "    <tr>\n",
              "      <th>1000206</th>\n",
              "      <td>6040</td>\n",
              "      <td>562</td>\n",
              "      <td>5</td>\n",
              "      <td>956704746</td>\n",
              "    </tr>\n",
              "    <tr>\n",
              "      <th>1000207</th>\n",
              "      <td>6040</td>\n",
              "      <td>1096</td>\n",
              "      <td>4</td>\n",
              "      <td>956715648</td>\n",
              "    </tr>\n",
              "    <tr>\n",
              "      <th>1000208</th>\n",
              "      <td>6040</td>\n",
              "      <td>1097</td>\n",
              "      <td>4</td>\n",
              "      <td>956715569</td>\n",
              "    </tr>\n",
              "  </tbody>\n",
              "</table>\n",
              "<p>1000209 rows × 4 columns</p>\n",
              "</div>"
            ],
            "text/plain": [
              "         userId  movieId  rating  timestamp\n",
              "0             1     1193       5  978300760\n",
              "1             1      661       3  978302109\n",
              "2             1      914       3  978301968\n",
              "3             1     3408       4  978300275\n",
              "4             1     2355       5  978824291\n",
              "...         ...      ...     ...        ...\n",
              "1000204    6040     1091       1  956716541\n",
              "1000205    6040     1094       5  956704887\n",
              "1000206    6040      562       5  956704746\n",
              "1000207    6040     1096       4  956715648\n",
              "1000208    6040     1097       4  956715569\n",
              "\n",
              "[1000209 rows x 4 columns]"
            ]
          },
          "metadata": {
            "tags": []
          },
          "execution_count": 9
        }
      ]
    },
    {
      "cell_type": "code",
      "metadata": {
        "id": "VcjCyUnzFrx8",
        "colab_type": "code",
        "colab": {
          "base_uri": "https://localhost:8080/",
          "height": 71
        },
        "outputId": "ce3b5cd7-379f-423a-9ab1-6e8b0faec575"
      },
      "source": [
        "if million == False:\n",
        "  df_movies = pd.read_csv(movies_dir)\n",
        "  # df_movies\n",
        "else:\n",
        "  df_movies = pd.read_csv(movies_dir, delimiter='::', header=None)\n",
        "  df_movies.columns = ['movieId', 'title', 'genres']\n"
      ],
      "execution_count": null,
      "outputs": [
        {
          "output_type": "stream",
          "text": [
            "/usr/local/lib/python3.6/dist-packages/ipykernel_launcher.py:5: ParserWarning: Falling back to the 'python' engine because the 'c' engine does not support regex separators (separators > 1 char and different from '\\s+' are interpreted as regex); you can avoid this warning by specifying engine='python'.\n",
            "  \"\"\"\n"
          ],
          "name": "stderr"
        }
      ]
    },
    {
      "cell_type": "code",
      "metadata": {
        "id": "pAAD6qTgulVB",
        "colab_type": "code",
        "colab": {
          "base_uri": "https://localhost:8080/",
          "height": 413
        },
        "outputId": "e09e63ca-d0ca-45d0-970e-f5584da41531"
      },
      "source": [
        "df_movies"
      ],
      "execution_count": null,
      "outputs": [
        {
          "output_type": "execute_result",
          "data": {
            "text/html": [
              "<div>\n",
              "<style scoped>\n",
              "    .dataframe tbody tr th:only-of-type {\n",
              "        vertical-align: middle;\n",
              "    }\n",
              "\n",
              "    .dataframe tbody tr th {\n",
              "        vertical-align: top;\n",
              "    }\n",
              "\n",
              "    .dataframe thead th {\n",
              "        text-align: right;\n",
              "    }\n",
              "</style>\n",
              "<table border=\"1\" class=\"dataframe\">\n",
              "  <thead>\n",
              "    <tr style=\"text-align: right;\">\n",
              "      <th></th>\n",
              "      <th>movieId</th>\n",
              "      <th>title</th>\n",
              "      <th>genres</th>\n",
              "    </tr>\n",
              "  </thead>\n",
              "  <tbody>\n",
              "    <tr>\n",
              "      <th>0</th>\n",
              "      <td>1</td>\n",
              "      <td>Toy Story (1995)</td>\n",
              "      <td>Animation|Children's|Comedy</td>\n",
              "    </tr>\n",
              "    <tr>\n",
              "      <th>1</th>\n",
              "      <td>2</td>\n",
              "      <td>Jumanji (1995)</td>\n",
              "      <td>Adventure|Children's|Fantasy</td>\n",
              "    </tr>\n",
              "    <tr>\n",
              "      <th>2</th>\n",
              "      <td>3</td>\n",
              "      <td>Grumpier Old Men (1995)</td>\n",
              "      <td>Comedy|Romance</td>\n",
              "    </tr>\n",
              "    <tr>\n",
              "      <th>3</th>\n",
              "      <td>4</td>\n",
              "      <td>Waiting to Exhale (1995)</td>\n",
              "      <td>Comedy|Drama</td>\n",
              "    </tr>\n",
              "    <tr>\n",
              "      <th>4</th>\n",
              "      <td>5</td>\n",
              "      <td>Father of the Bride Part II (1995)</td>\n",
              "      <td>Comedy</td>\n",
              "    </tr>\n",
              "    <tr>\n",
              "      <th>...</th>\n",
              "      <td>...</td>\n",
              "      <td>...</td>\n",
              "      <td>...</td>\n",
              "    </tr>\n",
              "    <tr>\n",
              "      <th>3878</th>\n",
              "      <td>3948</td>\n",
              "      <td>Meet the Parents (2000)</td>\n",
              "      <td>Comedy</td>\n",
              "    </tr>\n",
              "    <tr>\n",
              "      <th>3879</th>\n",
              "      <td>3949</td>\n",
              "      <td>Requiem for a Dream (2000)</td>\n",
              "      <td>Drama</td>\n",
              "    </tr>\n",
              "    <tr>\n",
              "      <th>3880</th>\n",
              "      <td>3950</td>\n",
              "      <td>Tigerland (2000)</td>\n",
              "      <td>Drama</td>\n",
              "    </tr>\n",
              "    <tr>\n",
              "      <th>3881</th>\n",
              "      <td>3951</td>\n",
              "      <td>Two Family House (2000)</td>\n",
              "      <td>Drama</td>\n",
              "    </tr>\n",
              "    <tr>\n",
              "      <th>3882</th>\n",
              "      <td>3952</td>\n",
              "      <td>Contender, The (2000)</td>\n",
              "      <td>Drama|Thriller</td>\n",
              "    </tr>\n",
              "  </tbody>\n",
              "</table>\n",
              "<p>3883 rows × 3 columns</p>\n",
              "</div>"
            ],
            "text/plain": [
              "      movieId                               title                        genres\n",
              "0           1                    Toy Story (1995)   Animation|Children's|Comedy\n",
              "1           2                      Jumanji (1995)  Adventure|Children's|Fantasy\n",
              "2           3             Grumpier Old Men (1995)                Comedy|Romance\n",
              "3           4            Waiting to Exhale (1995)                  Comedy|Drama\n",
              "4           5  Father of the Bride Part II (1995)                        Comedy\n",
              "...       ...                                 ...                           ...\n",
              "3878     3948             Meet the Parents (2000)                        Comedy\n",
              "3879     3949          Requiem for a Dream (2000)                         Drama\n",
              "3880     3950                    Tigerland (2000)                         Drama\n",
              "3881     3951             Two Family House (2000)                         Drama\n",
              "3882     3952               Contender, The (2000)                Drama|Thriller\n",
              "\n",
              "[3883 rows x 3 columns]"
            ]
          },
          "metadata": {
            "tags": []
          },
          "execution_count": 11
        }
      ]
    },
    {
      "cell_type": "markdown",
      "metadata": {
        "id": "lMPe7F4JY6lu",
        "colab_type": "text"
      },
      "source": [
        "# Prepare the data\n",
        "use leave k validation split\n"
      ]
    },
    {
      "cell_type": "markdown",
      "metadata": {
        "id": "N_LTQ9wIDs8p",
        "colab_type": "text"
      },
      "source": [
        "Prepare the data"
      ]
    },
    {
      "cell_type": "code",
      "metadata": {
        "id": "hkzZU7SI8zV5",
        "colab_type": "code",
        "colab": {}
      },
      "source": [
        "def split_train_eval(df_ratings, k):\n",
        "  \"\"\"\n",
        "  returns train set and eval set\n",
        "  \"\"\"\n",
        "  # df_ratings['user_mean_bias'] = user_mean_bias.loc[df_ratings['userId'].values].values                   #comment for v1\n",
        "  # df_ratings['movie_mean_bias'] = movie_mean_bias.loc[df_ratings['movieId'].values].values                   #comment for v1\n",
        "\n",
        "  leftOutPredictions =df_ratings.groupby('userId', as_index = False).apply(lambda x: x.iloc[-k:,:])\n",
        "  \n",
        "  # print(leftOutPredictions)\n",
        "\n",
        "  # df_ratings_train = df_ratings[~(df_ratings.isin(leftOutPredictions.values))]\n",
        "  df_ratings_train = df_ratings.groupby('userId', as_index = False).apply(lambda x: x.iloc[:-k,:])#.reset_index(drop = True,inplace =True)\n",
        "  df_ratings_train.index = pd.RangeIndex(len(df_ratings_train.index))\n",
        "\n",
        "  # display(df_ratings_train)\n",
        "\n",
        "  return df_ratings_train, leftOutPredictions"
      ],
      "execution_count": null,
      "outputs": []
    },
    {
      "cell_type": "code",
      "metadata": {
        "id": "hJ6fqGVQQA82",
        "colab_type": "code",
        "colab": {}
      },
      "source": [
        "def prepare_data_leftout(df_ratings, k=20):\n",
        "  # x = df_ratings[['userId', 'movieId']]\n",
        "  # y = df_ratings[['rating']]\n",
        "\n",
        "  # y_min = min(y.values)\n",
        "  # y_max = max(y.values)\n",
        "\n",
        "  # y = (y - y_min)/(y_max - y_min)\n",
        "\n",
        "  # # global_avg = (global_avg - y_min)/(y_max - y_min)\n",
        "\n",
        "  # user_mean_bias = df_ratings.groupby('userId')['rating'].agg('mean')\n",
        "  # movie_mean_bias = df_ratings.groupby('movieId')['rating'].agg('mean')\n",
        "  # user_mean_bias = (user_mean_bias- y_min)/(y_max - y_min)# - global_avg\n",
        "  # movie_mean_bias = (movie_mean_bias- y_min)/(y_max - y_min)#- global_avg\n",
        "  # # print(user_mean_bias)\n",
        "  # # print(movie_mean_bias)\n",
        "\n",
        "\n",
        "  # split_index = int(0.9*df_ratings.shape[0]) \n",
        "\n",
        "  # x_train, x_test, y_train, y_test = (x.iloc[:split_index,:], x.iloc[split_index:,:], y.iloc[:split_index,:], y.iloc[split_index:,:])\n",
        "\n",
        "  \n",
        "  # x['user_mean_bias'] = user_mean_bias.loc[x['userId'].values].values\n",
        "  # x['movie_mean_bias'] = movie_mean_bias.loc[x['movieId'].values].values\n",
        "\n",
        "  \n",
        "  # x['user_mean_bias'] = user_mean_bias.loc[x['userId'].values].values\n",
        "  # x['movie_mean_bias'] = movie_mean_bias.loc[x['movieId'].values].values\n",
        "\n",
        "  # return x_train, x_test, y_train, y_test, global_avg\n",
        "\n",
        "  #############################################\n",
        "  \n",
        "  y_min = min(df_ratings['rating'].values)\n",
        "  y_max = max(df_ratings['rating'].values)\n",
        "\n",
        "  df_ratings['rating'] = (df_ratings['rating'] - y_min)/ (y_max - y_min)\n",
        "\n",
        "  split_index = int(0.9*df_ratings.shape[0]) \n",
        "  df_ratings_train, df_ratings_test = split_train_eval(df_ratings, k)\n",
        "  # df_ratings_train, df_ratings_test = df_ratings.iloc[:split_index], df_ratings.iloc[split_index:]\n",
        "\n",
        "  global_avg = df_ratings_train['rating'].sum()/df_ratings_train.shape[0] \n",
        "  # print(global_avg)\n",
        "  user_mean_bias = df_ratings_train.groupby('userId')['rating'].agg('mean') - global_avg\n",
        "  movie_mean_bias = df_ratings_train.groupby('movieId')['rating'].agg('mean')  - global_avg\n",
        "\n",
        "  # print(movie_mean_bias)\n",
        "  #########################\n",
        "  # def func(x):\n",
        "  #   x['rating'] = 0\n",
        "  #   return x\n",
        "\n",
        "  # user_test_bias = df_ratings[['userId']].groupby('userId').apply(func)\n",
        "  # movie_test_bias = df_ratings[['movieId']].groupby('movieId').apply(func)\n",
        "  ########################\n",
        "\n",
        "  # user_test_bias['rating'] = 0\n",
        "  # movie_mean_bias['rating'] = 0\n",
        "  # print(  user_test_bias['rating'] )\n",
        "  \n",
        "  # user_mean_bias = user_mean_bias.append(user_test_bias)\n",
        "  # movie_mean_bias = movie_mean_bias.append(movie_test_bias)\n",
        "  \n",
        "  # print(user_mean_bias)\n",
        "\n",
        "  # user_mean_bias = user_mean_bias.reindex(, fill_value=0) #user_test_bias.index\n",
        "  # movie_mean_bias = movie_mean_bias.reindex(range(df_ratings['movieId'].unique().max()+1), fill_value=0) #movie_test_bias.index\n",
        "  \n",
        "  # user_mean_bias = pd.DataFrame(range(df_ratings['userId'].unique().max()+1)).join(user_mean_bias, how = 'outer').fillna(0)\n",
        "  # movie_mean_bias = pd.DataFrame(range(df_ratings['movieId'].unique().max()+1)).join(movie_mean_bias, how = 'outer').fillna(0)\n",
        "  \n",
        "  all_user_mean_bias = pd.Series(np.zeros(df_ratings['userId'].unique().max()+1))#, columns = ['userId']\n",
        "  all_movie_mean_bias = pd.Series(np.zeros(df_ratings['movieId'].unique().max()+1))#, columns = ['movieId']\n",
        "\n",
        "  all_user_mean_bias.update(user_mean_bias)#, overwrite = True\n",
        "  all_movie_mean_bias.update(movie_mean_bias)#, overwrite = True\n",
        "  \n",
        "  user_mean_bias = all_user_mean_bias\n",
        "  movie_mean_bias = all_movie_mean_bias\n",
        "  \n",
        "  # print(user_mean_bias.loc[df_ratings_train['userId'].values].shape, df_ratings_train['user_mean_bias'].shape )\n",
        "\n",
        "  df_ratings_train['user_mean_bias'] = user_mean_bias.loc[df_ratings_train['userId'].values].values\n",
        "  df_ratings_train['movie_mean_bias'] = movie_mean_bias.loc[df_ratings_train['movieId'].values].values\n",
        "\n",
        "  df_ratings_test['user_mean_bias'] = user_mean_bias.loc[df_ratings_test['userId'].values].values\n",
        "  df_ratings_test['movie_mean_bias'] = movie_mean_bias.loc[df_ratings_test['movieId'].values].values\n",
        "\n",
        "  # print(df_ratings_train['user_mean_bias'])\n",
        "\n",
        "  # df_ratings_train, df_ratings_test = df_ratings.iloc[:split_index], df_ratings.iloc[split_index:]\n",
        "\n",
        "  x_train, x_test, y_train, y_test = df_ratings_train[['userId', 'movieId','user_mean_bias','movie_mean_bias']], df_ratings_test[['userId', 'movieId','user_mean_bias','movie_mean_bias']], df_ratings_train[['rating']], df_ratings_test[['rating']]\n",
        "  \n",
        "  return x_train, x_test, y_train, y_test, global_avg"
      ],
      "execution_count": null,
      "outputs": []
    },
    {
      "cell_type": "markdown",
      "metadata": {
        "id": "F7-_u1UpJecU",
        "colab_type": "text"
      },
      "source": [
        "Ensure Data doesnt leak"
      ]
    },
    {
      "cell_type": "code",
      "metadata": {
        "id": "S_Lb3zRtULmN",
        "colab_type": "code",
        "colab": {}
      },
      "source": [
        "x_train, x_test, y_train, y_test, global_avg = prepare_data_leftout(df_ratings, 10)\n",
        "num_users = df_ratings['userId'].unique().max() +1\n",
        "num_movies = df_ratings['movieId'].unique().max() +1\n",
        "  "
      ],
      "execution_count": null,
      "outputs": []
    },
    {
      "cell_type": "code",
      "metadata": {
        "id": "j7NWE0bQolv6",
        "colab_type": "code",
        "colab": {
          "base_uri": "https://localhost:8080/",
          "height": 413
        },
        "outputId": "78446164-c92a-49ad-f803-008306f2635b"
      },
      "source": [
        "x_train"
      ],
      "execution_count": null,
      "outputs": [
        {
          "output_type": "execute_result",
          "data": {
            "text/html": [
              "<div>\n",
              "<style scoped>\n",
              "    .dataframe tbody tr th:only-of-type {\n",
              "        vertical-align: middle;\n",
              "    }\n",
              "\n",
              "    .dataframe tbody tr th {\n",
              "        vertical-align: top;\n",
              "    }\n",
              "\n",
              "    .dataframe thead th {\n",
              "        text-align: right;\n",
              "    }\n",
              "</style>\n",
              "<table border=\"1\" class=\"dataframe\">\n",
              "  <thead>\n",
              "    <tr style=\"text-align: right;\">\n",
              "      <th></th>\n",
              "      <th>userId</th>\n",
              "      <th>movieId</th>\n",
              "      <th>user_mean_bias</th>\n",
              "      <th>movie_mean_bias</th>\n",
              "    </tr>\n",
              "  </thead>\n",
              "  <tbody>\n",
              "    <tr>\n",
              "      <th>0</th>\n",
              "      <td>1</td>\n",
              "      <td>1193</td>\n",
              "      <td>0.148187</td>\n",
              "      <td>0.205220</td>\n",
              "    </tr>\n",
              "    <tr>\n",
              "      <th>1</th>\n",
              "      <td>1</td>\n",
              "      <td>661</td>\n",
              "      <td>0.148187</td>\n",
              "      <td>-0.027348</td>\n",
              "    </tr>\n",
              "    <tr>\n",
              "      <th>2</th>\n",
              "      <td>1</td>\n",
              "      <td>914</td>\n",
              "      <td>0.148187</td>\n",
              "      <td>0.146011</td>\n",
              "    </tr>\n",
              "    <tr>\n",
              "      <th>3</th>\n",
              "      <td>1</td>\n",
              "      <td>3408</td>\n",
              "      <td>0.148187</td>\n",
              "      <td>0.073433</td>\n",
              "    </tr>\n",
              "    <tr>\n",
              "      <th>4</th>\n",
              "      <td>1</td>\n",
              "      <td>2355</td>\n",
              "      <td>0.148187</td>\n",
              "      <td>0.071492</td>\n",
              "    </tr>\n",
              "    <tr>\n",
              "      <th>...</th>\n",
              "      <td>...</td>\n",
              "      <td>...</td>\n",
              "      <td>...</td>\n",
              "      <td>...</td>\n",
              "    </tr>\n",
              "    <tr>\n",
              "      <th>939804</th>\n",
              "      <td>6040</td>\n",
              "      <td>1077</td>\n",
              "      <td>-0.001272</td>\n",
              "      <td>0.088374</td>\n",
              "    </tr>\n",
              "    <tr>\n",
              "      <th>939805</th>\n",
              "      <td>6040</td>\n",
              "      <td>1079</td>\n",
              "      <td>-0.001272</td>\n",
              "      <td>0.106344</td>\n",
              "    </tr>\n",
              "    <tr>\n",
              "      <th>939806</th>\n",
              "      <td>6040</td>\n",
              "      <td>549</td>\n",
              "      <td>-0.001272</td>\n",
              "      <td>0.051664</td>\n",
              "    </tr>\n",
              "    <tr>\n",
              "      <th>939807</th>\n",
              "      <td>6040</td>\n",
              "      <td>2020</td>\n",
              "      <td>-0.001272</td>\n",
              "      <td>0.105144</td>\n",
              "    </tr>\n",
              "    <tr>\n",
              "      <th>939808</th>\n",
              "      <td>6040</td>\n",
              "      <td>2021</td>\n",
              "      <td>-0.001272</td>\n",
              "      <td>-0.069554</td>\n",
              "    </tr>\n",
              "  </tbody>\n",
              "</table>\n",
              "<p>939809 rows × 4 columns</p>\n",
              "</div>"
            ],
            "text/plain": [
              "        userId  movieId  user_mean_bias  movie_mean_bias\n",
              "0            1     1193        0.148187         0.205220\n",
              "1            1      661        0.148187        -0.027348\n",
              "2            1      914        0.148187         0.146011\n",
              "3            1     3408        0.148187         0.073433\n",
              "4            1     2355        0.148187         0.071492\n",
              "...        ...      ...             ...              ...\n",
              "939804    6040     1077       -0.001272         0.088374\n",
              "939805    6040     1079       -0.001272         0.106344\n",
              "939806    6040      549       -0.001272         0.051664\n",
              "939807    6040     2020       -0.001272         0.105144\n",
              "939808    6040     2021       -0.001272        -0.069554\n",
              "\n",
              "[939809 rows x 4 columns]"
            ]
          },
          "metadata": {
            "tags": []
          },
          "execution_count": 15
        }
      ]
    },
    {
      "cell_type": "markdown",
      "metadata": {
        "id": "kGeu9kx2xZTG",
        "colab_type": "text"
      },
      "source": [
        "# Hyperparameters"
      ]
    },
    {
      "cell_type": "code",
      "metadata": {
        "id": "_sFxEWn1xft3",
        "colab_type": "code",
        "colab": {}
      },
      "source": [
        "hparam = {}"
      ],
      "execution_count": null,
      "outputs": []
    },
    {
      "cell_type": "code",
      "metadata": {
        "id": "4DEydgpAxetA",
        "colab_type": "code",
        "colab": {}
      },
      "source": [
        "hparam['lr'] = 0.001\n",
        "hparam['embeddings_initializer'] = 'glorot_uniform'\n",
        "hparam['embedding_regularization'] = 1e-6\n",
        "hparam['embedding_size'] = 30\n",
        "hparam['pure_CF'] = 0"
      ],
      "execution_count": null,
      "outputs": []
    },
    {
      "cell_type": "markdown",
      "metadata": {
        "id": "_LrsNBEyarjQ",
        "colab_type": "text"
      },
      "source": [
        "# Prepare the Models  \n",
        "a. Bias Recommender  \n",
        "b. Bias + Collaborative Filtering (Matrix Factorisation)  \n",
        "c. Pure Collaborative Filtering "
      ]
    },
    {
      "cell_type": "markdown",
      "metadata": {
        "id": "BRHSToYTKdVY",
        "colab_type": "text"
      },
      "source": [
        "Define the models"
      ]
    },
    {
      "cell_type": "code",
      "metadata": {
        "id": "5Fz7PLtbKcqa",
        "colab_type": "code",
        "colab": {}
      },
      "source": [
        "import keras.backend as K\n",
        "\n",
        "class CFRecommender(tf.keras.Model):\n",
        "  def __init__(self, num_users, num_movies, global_avg, hparam):\n",
        "    super().__init__()#CFRecommender, self\n",
        "    self.num_users = num_users\n",
        "    self.num_movies = num_movies\n",
        "    # self.embedding_size = \n",
        "    self.global_avg = global_avg\n",
        "    # self.user_mean_bias = user_mean_bias\n",
        "    # self.movie_mean_bias = movie_mean_bias\n",
        "\n",
        "    self.user_embedding = tf.keras.layers.Embedding(self.num_users,hparam['embedding_size'],embeddings_regularizer=keras.regularizers.l2(hparam['embedding_regularization']),embeddings_initializer=hparam['embeddings_initializer'])\n",
        "    self.user_bias = tf.keras.layers.Embedding(self.num_users, 1,embeddings_initializer=hparam['embeddings_initializer']) #, self.embedding_size embeddings_regularizer=keras.regularizers.l2(1e-6),\n",
        "\n",
        "    self.movie_embedding = tf.keras.layers.Embedding(self.num_movies, hparam['embedding_size'],embeddings_regularizer=keras.regularizers.l2(hparam['embedding_regularization']),embeddings_initializer=hparam['embeddings_initializer'])\n",
        "    self.movie_bias = tf.keras.layers.Embedding(self.num_movies, 1,embeddings_initializer=hparam['embeddings_initializer']) #, self.embedding_size\n",
        "\n",
        "  def call(self, inputs): #input: dim1 x 2\n",
        "\n",
        "    user_vector = self.user_embedding(inputs[:,0]) #dim1 x embedding_size\n",
        "    user_bias = self.user_bias(inputs[:,0]) #dim1 x 1\n",
        "\n",
        "    movie_vector = self.movie_embedding(inputs[:,1]) #dim1 x embedding_size\n",
        "    movie_bias = self.movie_bias(inputs[:,1]) #dim1 x 1\n",
        "\n",
        "    mu = self.global_avg\n",
        "\n",
        "    # user_avg = self.user_mean_bias.loc[inputs[:,0]].values\n",
        "    # movie_avg = self.movie_mean_bias.loc[inputs[:,1]].values\n",
        "    user_avg = inputs[:,2] #dim1 x 1\n",
        "    movie_avg = inputs[:,3] #dim1 x 1\n",
        "\n",
        "    \"\"\"\n",
        "    user_vector, movie_vector : (batch_size, embedding_dim)\n",
        "    \"\"\"\n",
        "    dot_user_movie = tf.reduce_sum(tf.math.multiply(user_vector,movie_vector), axis = 1) #tf.math.l2_normalize(user_vector,0) # tf.math.l2_normalize(movie_vector,0)  #dim1 x 1\n",
        "    # print('test0')\n",
        "    # print(K.int_shape(user_avg[:,np.newaxis]), K.int_shape(user_bias))\n",
        "    # print(K.int_shape(dot_user_movie), K.int_shape(tf.math.multiply(user_avg[:,np.newaxis],user_bias)),K.int_shape(tf.math.multiply(movie_avg[:,np.newaxis],movie_bias)) )\n",
        "    # print('test1')\n",
        "    if hparam['pure_CF']:\n",
        "      c_ratings = dot_user_movie\n",
        "    else:\n",
        "      c_ratings = dot_user_movie + tf.math.multiply(user_avg,user_bias) + tf.math.multiply(movie_avg,movie_bias) + mu\n",
        "    # print('test2')\n",
        "    return tf.nn.sigmoid(dot_user_movie)\n"
      ],
      "execution_count": null,
      "outputs": []
    },
    {
      "cell_type": "code",
      "metadata": {
        "id": "IFDoX8DBLcMe",
        "colab_type": "code",
        "colab": {}
      },
      "source": [
        "# import keras.backend as K\n",
        "\n",
        "class CFpure(tf.keras.Model):\n",
        "  def __init__(self, num_users, num_movies, global_avg, hparam):\n",
        "    super().__init__()#CFRecommender, self\n",
        "    self.num_users = num_users\n",
        "    self.num_movies = num_movies\n",
        "    self.embedding_size = embedding_size\n",
        "    self.global_avg = global_avg\n",
        "    # self.user_mean_bias = user_mean_bias\n",
        "    # self.movie_mean_bias = movie_mean_bias\n",
        "\n",
        "    self.user_embedding = tf.keras.layers.Embedding(self.num_users,self.embedding_size,embeddings_regularizer=keras.regularizers.l2(1e-3),embeddings_initializer=\"glorot_uniform\")\n",
        "    self.user_bias = tf.keras.layers.Embedding(self.num_users, 1,embeddings_initializer=\"glorot_uniform\") #, self.embedding_size embeddings_regularizer=keras.regularizers.l2(1e-6),\n",
        "\n",
        "    self.movie_embedding = tf.keras.layers.Embedding(self.num_movies, self.embedding_size,embeddings_regularizer=keras.regularizers.l2(1e-3),embeddings_initializer=\"glorot_uniform\")\n",
        "    self.movie_bias = tf.keras.layers.Embedding(self.num_movies, 1,embeddings_initializer=\"glorot_uniform\") #, self.embedding_size\n",
        "\n",
        "  def call(self, inputs): #input: dim1 x 2\n",
        "\n",
        "    user_vector = self.user_embedding(inputs[:,0]) #dim1 x embedding_size\n",
        "    user_bias = self.user_bias(inputs[:,0]) #dim1 x 1\n",
        "\n",
        "    movie_vector = self.movie_embedding(inputs[:,1]) #dim1 x embedding_size\n",
        "    movie_bias = self.movie_bias(inputs[:,1]) #dim1 x 1\n",
        "\n",
        "    mu = self.global_avg\n",
        "\n",
        "    # user_avg = self.user_mean_bias.loc[inputs[:,0]].values\n",
        "    # movie_avg = self.movie_mean_bias.loc[inputs[:,1]].values\n",
        "    user_avg = inputs[:,2] #dim1 x 1\n",
        "    movie_avg = inputs[:,3] #dim1 x 1\n",
        "\n",
        "    \"\"\"\n",
        "    user_vector, movie_vector : (batch_size, embedding_dim)\n",
        "    \"\"\"\n",
        "    dot_user_movie = tf.reduce_sum(tf.math.multiply(user_vector,movie_vector), axis = 1) #tf.math.l2_normalize(user_vector,0) # tf.math.l2_normalize(movie_vector,0)  #dim1 x 1\n",
        "    # print('test0')\n",
        "    # print(K.int_shape(user_avg[:,np.newaxis]), K.int_shape(user_bias))\n",
        "    # print(K.int_shape(dot_user_movie), K.int_shape(tf.math.multiply(user_avg[:,np.newaxis],user_bias)),K.int_shape(tf.math.multiply(movie_avg[:,np.newaxis],movie_bias)) )\n",
        "    # print('test1')\n",
        "    c_ratings = dot_user_movie + user_bias + movie_bias #+ tf.math.multiply(user_avg,user_bias) + tf.math.multiply(movie_avg,movie_bias) + mu\n",
        "    # print('test2')\n",
        "    return tf.nn.sigmoid(dot_user_movie)\n"
      ],
      "execution_count": null,
      "outputs": []
    },
    {
      "cell_type": "code",
      "metadata": {
        "id": "M_7hnzobPV3K",
        "colab_type": "code",
        "colab": {}
      },
      "source": [
        "\n",
        "# Baseline\t0.188850\t0.215598\n",
        "#\tCF\t0.117963\t0.255645\n",
        "\n",
        "# num_users = df_ratings['userId'].unique().max() +1\n",
        "# num_movies = df_ratings['movieId'].unique().max() +1\n",
        "# EMBEDDING_SIZE = 50\n",
        "\n",
        "class BiasRecommender(tf.keras.Model):\n",
        "  def __init__(self, global_avg): #, num_users, num_movies, embedding_size\n",
        "    super().__init__()#CFRecommender, self\n",
        "    # self.num_users = num_users\n",
        "    # self.num_movies = num_movies\n",
        "    # self.embedding_size = embedding_size\n",
        "    self.global_avg = global_avg\n",
        "    # self.user_mean_bias = user_mean_bias\n",
        "    # self.movie_mean_bias = movie_mean_bias\n",
        "\n",
        "    # self.user_embedding = tf.keras.layers.Embedding(self.num_users,self.embedding_size,embeddings_regularizer=keras.regularizers.l2(1e-6),embeddings_initializer=\"he_normal\")\n",
        "    # self.user_bias = tf.keras.layers.Embedding(self.num_users, 1,embeddings_initializer=\"he_normal\") #, self.embedding_size embeddings_regularizer=keras.regularizers.l2(1e-6),\n",
        "\n",
        "    # self.movie_embedding = tf.keras.layers.Embedding(self.num_movies, self.embedding_size,embeddings_regularizer=keras.regularizers.l2(1e-6),embeddings_initializer=\"he_normal\")\n",
        "    # self.movie_bias = tf.keras.layers.Embedding(self.num_movies, 1,embeddings_initializer=\"he_normal\") #, self.embedding_size\n",
        "\n",
        "  def call(self, inputs): #input: dim1 x 2\n",
        "\n",
        "    # user_vector = self.user_embedding(inputs[:,0]) #dim1 x embedding_size\n",
        "    # user_bias = self.user_bias(inputs[:,0]) #dim1 x 1\n",
        "\n",
        "    # movie_vector = self.movie_embedding(inputs[:,1]) #dim1 x embedding_size\n",
        "    # movie_bias = self.movie_bias(inputs[:,1]) #dim1 x 1\n",
        "\n",
        "    mu = self.global_avg\n",
        "\n",
        "    # user_avg = self.user_mean_bias.loc[inputs[:,0]].values\n",
        "    # movie_avg = self.movie_mean_bias.loc[inputs[:,1]].values\n",
        "    user_avg = inputs[:,2] #dim1 x 1\n",
        "    movie_avg = inputs[:,3] #dim1 x 1\n",
        "\n",
        "    bias = (user_avg + movie_avg)/2\n",
        "    \"\"\"\n",
        "    user_vector, movie_vector : (batch_size, embedding_dim)\n",
        "    \"\"\"\n",
        "    # dot_user_movie = tf.reduce_sum(tf.math.multiply(user_vector,movie_vector), axis = 1) #tf.math.l2_normalize(user_vector,0) # tf.math.l2_normalize(movie_vector,0)  #dim1 x 1\n",
        "    # print('test0')\n",
        "    # print(K.int_shape(user_avg[:,np.newaxis]), K.int_shape(user_bias))\n",
        "    # print(K.int_shape(dot_user_movie), K.int_shape(tf.math.multiply(user_avg[:,np.newaxis],user_bias)),K.int_shape(tf.math.multiply(movie_avg[:,np.newaxis],movie_bias)) )\n",
        "    # print('test1')\n",
        "    c_ratings = bias + mu\n",
        "    return c_ratings"
      ],
      "execution_count": null,
      "outputs": []
    },
    {
      "cell_type": "code",
      "metadata": {
        "id": "hxf65QB-Q6bC",
        "colab_type": "code",
        "colab": {}
      },
      "source": [
        "num_users = df_ratings['userId'].unique().max() +1\n",
        "num_movies = df_ratings['movieId'].unique().max() +1\n",
        "# EMBEDDING_SIZE = 50\n",
        "\n",
        "\n",
        "def CFpure(num_users = num_users, num_movies=num_movies, global_avg = global_avg,hparam = hparam): \n",
        "  model = CFRecommender(num_users, num_movies, global_avg, hparam)\n",
        "  model.build(input_shape=(None,4))\n",
        "  model.compile(loss = tf.keras.losses.BinaryCrossentropy(), optimizer = keras.optimizers.Adam(hparam['lr']))\n",
        "  model.summary()\n",
        "\n",
        "  return model\n",
        "\n",
        "def CFmodel(num_users = num_users, num_movies=num_movies, global_avg = global_avg,hparam = hparam): \n",
        "  model = CFRecommender(num_users, num_movies, global_avg, hparam)\n",
        "  model.build(input_shape=(None,4))\n",
        "  model.compile(loss = tf.keras.losses.BinaryCrossentropy(), optimizer = keras.optimizers.Adam(hparam['lr']))\n",
        "  model.summary()\n",
        "\n",
        "  return model\n",
        "\n",
        "def Basemodel(global_avg = global_avg):\n",
        "  model = BiasRecommender(global_avg)\n",
        "  return model\n"
      ],
      "execution_count": null,
      "outputs": []
    },
    {
      "cell_type": "code",
      "metadata": {
        "id": "lZzE5PAdxPcs",
        "colab_type": "code",
        "colab": {}
      },
      "source": [
        "# CFpure()"
      ],
      "execution_count": null,
      "outputs": []
    },
    {
      "cell_type": "markdown",
      "metadata": {
        "id": "fpVrFae3bQxt",
        "colab_type": "text"
      },
      "source": [
        "# Tune the CF model's learning rate \n",
        "lr = 0.002"
      ]
    },
    {
      "cell_type": "markdown",
      "metadata": {
        "id": "WIENG6KxTo5i",
        "colab_type": "text"
      },
      "source": [
        "Tune Learning Rate"
      ]
    },
    {
      "cell_type": "code",
      "metadata": {
        "id": "DdYPizD6TlNm",
        "colab_type": "code",
        "cellView": "code",
        "colab": {
          "base_uri": "https://localhost:8080/",
          "height": 796
        },
        "outputId": "b0db6cfe-d40c-48ee-b1fe-9555dea0b5ce"
      },
      "source": [
        "\n",
        "import matplotlib.pyplot as plt\n",
        "import keras.backend as K\n",
        "from keras.callbacks import Callback\n",
        "\n",
        "class LRFinder(tf.keras.callbacks.Callback):\n",
        "    \n",
        "    '''\n",
        "    A simple callback for finding the optimal learning rate range for your model + dataset. \n",
        "    \n",
        "    # Usage\n",
        "        ```python\n",
        "            lr_finder = LRFinder(min_lr=1e-5, \n",
        "                                 max_lr=1e-2, \n",
        "                                 steps_per_epoch=np.ceil(epoch_size/batch_size), \n",
        "                                 epochs=3)\n",
        "            model.fit(X_train, Y_train, callbacks=[lr_finder])\n",
        "            \n",
        "            lr_finder.plot_loss()\n",
        "        ```\n",
        "    \n",
        "    # Arguments\n",
        "        min_lr: The lower bound of the learning rate range for the experiment.\n",
        "        max_lr: The upper bound of the learning rate range for the experiment.\n",
        "        steps_per_epoch: Number of mini-batches in the dataset. Calculated as `np.ceil(epoch_size/batch_size)`. \n",
        "        epochs: Number of epochs to run experiment. Usually between 2 and 4 epochs is sufficient. \n",
        "        \n",
        "    # References\n",
        "        Blog post: jeremyjordan.me/nn-learning-rate\n",
        "        Original paper: https://arxiv.org/abs/1506.01186\n",
        "    '''\n",
        "    \n",
        "    def __init__(self, min_lr=1e-5, max_lr=1e-2, steps_per_epoch=None, epochs=None):\n",
        "        super().__init__()\n",
        "        \n",
        "        self.min_lr = min_lr\n",
        "        self.max_lr = max_lr\n",
        "        self.total_iterations = steps_per_epoch * epochs\n",
        "        self.iteration = 0\n",
        "        self.history = {}\n",
        "        \n",
        "    def clr(self):\n",
        "        '''Calculate the learning rate.'''\n",
        "        x = self.iteration / self.total_iterations \n",
        "        return self.min_lr + (self.max_lr-self.min_lr) * x\n",
        "        \n",
        "    def on_train_begin(self, logs=None):\n",
        "        '''Initialize the learning rate to the minimum value at the start of training.'''\n",
        "        logs = logs or {}\n",
        "        K.set_value(self.model.optimizer.lr, self.min_lr)\n",
        "        \n",
        "    def on_batch_end(self, epoch, logs=None):\n",
        "        '''Record previous batch statistics and update the learning rate.'''\n",
        "        logs = logs or {}\n",
        "        self.iteration += 1\n",
        "\n",
        "        self.history.setdefault('lr', []).append(K.get_value(self.model.optimizer.lr))\n",
        "        self.history.setdefault('iterations', []).append(self.iteration)\n",
        "\n",
        "        for k, v in logs.items():\n",
        "            self.history.setdefault(k, []).append(v)\n",
        "            \n",
        "        K.set_value(self.model.optimizer.lr, self.clr())\n",
        " \n",
        "    def plot_lr(self):\n",
        "        '''Helper function to quickly inspect the learning rate schedule.'''\n",
        "        plt.plot(self.history['iterations'], self.history['lr'])\n",
        "        plt.yscale('log')\n",
        "        plt.xlabel('Iteration')\n",
        "        plt.ylabel('Learning rate')\n",
        "        plt.show()\n",
        "        \n",
        "    def plot_loss(self):\n",
        "        '''Helper function to quickly observe the learning rate experiment results.'''\n",
        "        plt.plot(self.history['lr'], self.history['loss'])\n",
        "        plt.xscale('log')\n",
        "        plt.xlabel('Learning rate')\n",
        "        plt.ylabel('Loss')\n",
        "        plt.show()\n",
        "\n",
        "batch_size = 130\n",
        "tune_model = CFmodel()\n",
        "\n",
        "lr_finder = LRFinder(min_lr=1e-6, \n",
        "                    max_lr=1e-2, \n",
        "                    steps_per_epoch=np.ceil(x_train.shape[0]/batch_size), \n",
        "                    epochs=1)\n",
        "tune_model.fit(x = x_train, y = y_train, verbose = 2, callbacks = [lr_finder], batch_size = batch_size)\n",
        "\n",
        "lr_finder.plot_loss()"
      ],
      "execution_count": null,
      "outputs": [
        {
          "output_type": "stream",
          "text": [
            "Model: \"cf_recommender_3\"\n",
            "_________________________________________________________________\n",
            "Layer (type)                 Output Shape              Param #   \n",
            "=================================================================\n",
            "embedding_12 (Embedding)     multiple                  302050    \n",
            "_________________________________________________________________\n",
            "embedding_13 (Embedding)     multiple                  6041      \n",
            "_________________________________________________________________\n",
            "embedding_14 (Embedding)     multiple                  197650    \n",
            "_________________________________________________________________\n",
            "embedding_15 (Embedding)     multiple                  3953      \n",
            "=================================================================\n",
            "Total params: 509,694\n",
            "Trainable params: 509,694\n",
            "Non-trainable params: 0\n",
            "_________________________________________________________________\n",
            "WARNING:tensorflow:Layer cf_recommender_3 is casting an input tensor from dtype float64 to the layer's dtype of float32, which is new behavior in TensorFlow 2.  The layer has dtype float32 because its dtype defaults to floatx.\n",
            "\n",
            "If you intended to run this layer in float32, you can safely ignore this warning. If in doubt, this warning is likely only an issue if you are porting a TensorFlow 1.X model to TensorFlow 2.\n",
            "\n",
            "To change all layers to have dtype float64 by default, call `tf.keras.backend.set_floatx('float64')`. To change just this layer, pass dtype='float64' to the layer constructor. If you are the author of this layer, you can disable autocasting by passing autocast=False to the base Layer constructor.\n",
            "\n",
            "WARNING:tensorflow:Gradients do not exist for variables ['embedding_13/embeddings:0', 'embedding_15/embeddings:0'] when minimizing the loss.\n",
            "WARNING:tensorflow:Gradients do not exist for variables ['embedding_13/embeddings:0', 'embedding_15/embeddings:0'] when minimizing the loss.\n"
          ],
          "name": "stdout"
        },
        {
          "output_type": "stream",
          "text": [
            "/usr/local/lib/python3.6/dist-packages/tensorflow/python/framework/indexed_slices.py:432: UserWarning: Converting sparse IndexedSlices to a dense Tensor of unknown shape. This may consume a large amount of memory.\n",
            "  \"Converting sparse IndexedSlices to a dense Tensor of unknown shape. \"\n"
          ],
          "name": "stderr"
        },
        {
          "output_type": "stream",
          "text": [
            "WARNING:tensorflow:Gradients do not exist for variables ['embedding_13/embeddings:0', 'embedding_15/embeddings:0'] when minimizing the loss.\n",
            "WARNING:tensorflow:Gradients do not exist for variables ['embedding_13/embeddings:0', 'embedding_15/embeddings:0'] when minimizing the loss.\n",
            "6925/6925 - 44s - loss: 0.6334\n"
          ],
          "name": "stdout"
        },
        {
          "output_type": "display_data",
          "data": {
            "image/png": "[encoded data removed]",
            "text/plain": [
              "<Figure size 432x288 with 1 Axes>"
            ]
          },
          "metadata": {
            "tags": [],
            "needs_background": "light"
          }
        }
      ]
    },
    {
      "cell_type": "code",
      "metadata": {
        "id": "go9PxvhQT0DK",
        "colab_type": "code",
        "colab": {}
      },
      "source": [
        "\n",
        "# tune_model.compile(loss = tf.keras.losses.BinaryCrossentropy(), optimizer = keras.optimizers.Adam(1e-6)) #0.00003"
      ],
      "execution_count": null,
      "outputs": []
    },
    {
      "cell_type": "markdown",
      "metadata": {
        "id": "W1Lc1E-AbvIM",
        "colab_type": "text"
      },
      "source": [
        "# Define Model training functions"
      ]
    },
    {
      "cell_type": "markdown",
      "metadata": {
        "id": "XBYQCpsTUaFS",
        "colab_type": "text"
      },
      "source": [
        "Train model"
      ]
    },
    {
      "cell_type": "code",
      "metadata": {
        "id": "x6-sILykUZKF",
        "colab_type": "code",
        "colab": {}
      },
      "source": [
        "def train_CFmodel(model, x_aug_train, y_train,x_aug_test, y_test):\n",
        "  BATCH_SIZE = 512\n",
        "  EPOCHS = 20\n",
        "  train_again = True\n",
        "  \n",
        "  callback = tf.keras.callbacks.EarlyStopping(        #check val_loss vs loss which one to consider\n",
        "      monitor='val_loss', min_delta=0, patience=1, verbose=0, mode='auto',\n",
        "      baseline=None, restore_best_weights=False\n",
        "  )\n",
        "  \n",
        "  if train_again:\n",
        "    history = model.fit(x = x_aug_train, y = y_train, batch_size = BATCH_SIZE ,epochs = EPOCHS, verbose = 1, callbacks = [callback], validation_data=(x_aug_test, y_test))\n",
        "\n",
        "  plt.plot(history.history['loss'])\n",
        "  plt.plot(history.history['val_loss'])\n",
        "  plt.title('model loss')\n",
        "  plt.ylabel('loss')\n",
        "  plt.xlabel('eopchs')\n",
        "  plt.legend(['train','test'], loc = \"upper left\")\n",
        "  plt.show()\n",
        "\n",
        "  return model"
      ],
      "execution_count": null,
      "outputs": []
    },
    {
      "cell_type": "code",
      "metadata": {
        "id": "hhWBcsJ397Ia",
        "colab_type": "code",
        "colab": {}
      },
      "source": [
        "# train_CFmodel(CFmodel(lr = 0.00005), x_train, y_train,x_test, y_test)\n",
        "# a = Basemodel().predict(x_train)\n",
        "# print(x_train.shape)\n",
        "# print(a.shape)"
      ],
      "execution_count": null,
      "outputs": []
    },
    {
      "cell_type": "code",
      "metadata": {
        "id": "DZoF3mJTUYl7",
        "colab_type": "code",
        "colab": {}
      },
      "source": [
        "\n",
        "# train_model(model, x_train, y_train, x_test, y_test)"
      ],
      "execution_count": null,
      "outputs": []
    },
    {
      "cell_type": "markdown",
      "metadata": {
        "id": "l6Kph10Ab9LY",
        "colab_type": "text"
      },
      "source": [
        "# Load saved model\n",
        "just in case"
      ]
    },
    {
      "cell_type": "markdown",
      "metadata": {
        "id": "L0O7SS_rVjA1",
        "colab_type": "text"
      },
      "source": [
        "Load saved model "
      ]
    },
    {
      "cell_type": "code",
      "metadata": {
        "id": "sdveSbL6VdtH",
        "colab_type": "code",
        "colab": {}
      },
      "source": [
        "def saved_model():\n",
        "  model = keras.models.load_model(base_dir + \"Saved Models/\"+'CFRecommender'+'_V_'+ '6'+ 'refined')\n",
        "  return model"
      ],
      "execution_count": null,
      "outputs": []
    },
    {
      "cell_type": "markdown",
      "metadata": {
        "id": "soKtymB3cwHb",
        "colab_type": "text"
      },
      "source": [
        "# RMSE evaluation for the leave one validation set "
      ]
    },
    {
      "cell_type": "markdown",
      "metadata": {
        "id": "QjqM2aAfY6Ub",
        "colab_type": "text"
      },
      "source": [
        "Left out rmse"
      ]
    },
    {
      "cell_type": "code",
      "metadata": {
        "id": "B_FAd8y95jyg",
        "colab_type": "code",
        "colab": {}
      },
      "source": [
        "## utility function to calculate rmse\n",
        "def rmse(predictions, targets):  \n",
        "  print(np.squeeze(predictions).shape, np.squeeze(targets).shape)\n",
        "  print('')\n",
        "  return np.sqrt(np.mean((np.squeeze(predictions)-np.squeeze(targets))**2))\n",
        "\n",
        "## function to return datafrmae of rmse evalutaion result\n",
        "def rmse_evaluate(model, x_train, x_test, y_train, y_test, model_name ):\n",
        "  BATCH_SIZE_P = 10\n",
        "\n",
        "  ratings_train = model.predict(np.reshape(np.array(x_train.values),(-1,4)), batch_size = BATCH_SIZE_P).flatten() ##remove .iloc for V1 model\n",
        "  ratings_test = model.predict(np.reshape(np.array(x_test.values),(-1,4)), batch_size = BATCH_SIZE_P).flatten() ##remove .iloc for V1 model\n",
        "\n",
        "  rmse_train = rmse(ratings_train, y_train)\n",
        "  rmse_test = rmse(ratings_test, y_test)\n",
        "\n",
        "  data = {'model':[model_name], 'rmse train':[rmse_train], 'rmse test':[rmse_test]}\n",
        "  df = pd.DataFrame(data)\n",
        "\n",
        "  return df\n"
      ],
      "execution_count": null,
      "outputs": []
    },
    {
      "cell_type": "code",
      "metadata": {
        "id": "q-Q_SnUFBY2s",
        "colab_type": "code",
        "colab": {}
      },
      "source": [
        "def rmse_evaluate_leftout(df_ratings):\n",
        "  # x_train, x_test, y_train, y_test, global_avg = prepare_data(df_ratings)\n",
        "  \n",
        "  ############### prepare data #########\n",
        "  x_train, x_test, y_train, y_test, global_avg = prepare_data_leftout(df_ratings)\n",
        "\n",
        "  ############# get model ##############\n",
        "  num_users = df_ratings['userId'].unique().max() +1\n",
        "  num_movies = df_ratings['movieId'].unique().max() +1\n",
        "  # EMBEDDING_SIZE = 60\n",
        "\n",
        "  lr =  0.002 #2e-2 tune this\n",
        "  \n",
        "  model_CF = CFmodel(num_users = num_users, num_movies=num_movies, global_avg = global_avg,hparam =hparam)\n",
        "  model_base = Basemodel( global_avg = global_avg)\n",
        "  # model_mu = mumodel( global_avg = global_avg)\n",
        "  model_CF_pure = CFpure(num_users = num_users, num_movies=num_movies, global_avg = global_avg,hparam =hparam)\n",
        "  ############ train/load model #############\n",
        "  train_CF = True # True\n",
        "  save_CF = True #True\n",
        "  \n",
        "  if train_CF or not os.path.isdir(base_dir + \"Saved Models/\"+'CFRecommender'+'_V_'+ '7'+'1m'):\n",
        "    print(\"CF_Recommender training...\")\n",
        "    model_CF = train_CFmodel(model_CF, x_train, y_train, x_test, y_test)\n",
        "  else:\n",
        "    model_CF = keras.models.load_model(base_dir + \"Saved Models/\"+'CFRecommender'+'_V_'+ '7'+'1m')\n",
        "    \n",
        "  if save_CF:\n",
        "    model_CF.save(base_dir + \"Saved Models/\"+'CFRecommender'+'_V_'+ '7'+ '1m') #'_mu' + '_bias'+'_meaningful_embeddings_allembeddings_he_initialized'\n",
        " \n",
        " ###############\n",
        "  save_pure = True\n",
        "  train_pure = True\n",
        "  \n",
        "  if train_pure or not os.path.isdir(base_dir + \"Saved Models/\"+'CFpure_Recommender'+'_V_'+ '7'+'1m'):\n",
        "    print(\"CFpure_Recommender training...\")\n",
        "    model_CF_pure = train_CFmodel(model_CF_pure, x_train, y_train, x_test, y_test)\n",
        "  else:\n",
        "    model_CF_pure = keras.models.load_model(base_dir + \"Saved Models/\"+'CFpure_Recommender'+'_V_'+ '7'+'1m')\n",
        "  \n",
        "  if save_pure:\n",
        "    model_CF_pure.save(base_dir + \"Saved Models/\"+'CFpure_Recommender'+'_V_'+ '7'+ '1m') #'_mu' + '_bias'+'_meaningful_embeddings_allembeddings_he_initialized'\n",
        " \n",
        "  # model = keras.models.load_model(base_dir + \"Saved Models/\"+'CFRecommender'+'_V_'+ '5'+ '_mu' + '_bias'+'_meaningful_embeddings_allembeddings_he_initialized')\n",
        "  ############ evaluate models #########\n",
        "  # df = rmse_evaluate(model_mu,x_train, x_test, y_train, y_test,\"mu Baseline\")\n",
        "\n",
        "\n",
        "  df = rmse_evaluate(model_base,x_train, x_test, y_train, y_test,\"bias Baseline\")\n",
        "  df = df.append(rmse_evaluate(model_CF,x_train, x_test, y_train, y_test,\"CF\"))\n",
        "  df = df.append(rmse_evaluate(model_CF_pure,x_train, x_test, y_train, y_test,\"CFpure\"))\n",
        "  return(df, model_CF, model_base, model_CF_pure)\n",
        "\n",
        "\n",
        "\n"
      ],
      "execution_count": null,
      "outputs": []
    },
    {
      "cell_type": "code",
      "metadata": {
        "id": "kvm0l8N4Y2Is",
        "colab_type": "code",
        "colab": {
          "base_uri": "https://localhost:8080/",
          "height": 1000
        },
        "outputId": "88628e57-4ebf-4c29-c1fc-c6f9ccb808c9"
      },
      "source": [
        "df1, model_CF1, model_base1, model_CF_pure1 = rmse_evaluate_leftout(df_ratings)"
      ],
      "execution_count": null,
      "outputs": [
        {
          "output_type": "stream",
          "text": [
            "Model: \"cf_recommender_3\"\n",
            "_________________________________________________________________\n",
            "Layer (type)                 Output Shape              Param #   \n",
            "=================================================================\n",
            "embedding_12 (Embedding)     multiple                  181230    \n",
            "_________________________________________________________________\n",
            "embedding_13 (Embedding)     multiple                  6041      \n",
            "_________________________________________________________________\n",
            "embedding_14 (Embedding)     multiple                  118590    \n",
            "_________________________________________________________________\n",
            "embedding_15 (Embedding)     multiple                  3953      \n",
            "=================================================================\n",
            "Total params: 309,814\n",
            "Trainable params: 309,814\n",
            "Non-trainable params: 0\n",
            "_________________________________________________________________\n",
            "Model: \"cf_recommender_4\"\n",
            "_________________________________________________________________\n",
            "Layer (type)                 Output Shape              Param #   \n",
            "=================================================================\n",
            "embedding_16 (Embedding)     multiple                  181230    \n",
            "_________________________________________________________________\n",
            "embedding_17 (Embedding)     multiple                  6041      \n",
            "_________________________________________________________________\n",
            "embedding_18 (Embedding)     multiple                  118590    \n",
            "_________________________________________________________________\n",
            "embedding_19 (Embedding)     multiple                  3953      \n",
            "=================================================================\n",
            "Total params: 309,814\n",
            "Trainable params: 309,814\n",
            "Non-trainable params: 0\n",
            "_________________________________________________________________\n",
            "CF_Recommender training...\n",
            "Epoch 1/20\n",
            "WARNING:tensorflow:Layer cf_recommender_3 is casting an input tensor from dtype float64 to the layer's dtype of float32, which is new behavior in TensorFlow 2.  The layer has dtype float32 because its dtype defaults to floatx.\n",
            "\n",
            "If you intended to run this layer in float32, you can safely ignore this warning. If in doubt, this warning is likely only an issue if you are porting a TensorFlow 1.X model to TensorFlow 2.\n",
            "\n",
            "To change all layers to have dtype float64 by default, call `tf.keras.backend.set_floatx('float64')`. To change just this layer, pass dtype='float64' to the layer constructor. If you are the author of this layer, you can disable autocasting by passing autocast=False to the base Layer constructor.\n",
            "\n"
          ],
          "name": "stdout"
        },
        {
          "output_type": "stream",
          "text": [
            "/usr/local/lib/python3.6/dist-packages/tensorflow/python/framework/indexed_slices.py:432: UserWarning: Converting sparse IndexedSlices to a dense Tensor of unknown shape. This may consume a large amount of memory.\n",
            "  \"Converting sparse IndexedSlices to a dense Tensor of unknown shape. \"\n"
          ],
          "name": "stderr"
        },
        {
          "output_type": "stream",
          "text": [
            "WARNING:tensorflow:Gradients do not exist for variables ['embedding_13/embeddings:0', 'embedding_15/embeddings:0'] when minimizing the loss.\n",
            "WARNING:tensorflow:Gradients do not exist for variables ['embedding_13/embeddings:0', 'embedding_15/embeddings:0'] when minimizing the loss.\n",
            "WARNING:tensorflow:Gradients do not exist for variables ['embedding_13/embeddings:0', 'embedding_15/embeddings:0'] when minimizing the loss.\n",
            "WARNING:tensorflow:Gradients do not exist for variables ['embedding_13/embeddings:0', 'embedding_15/embeddings:0'] when minimizing the loss.\n",
            "1718/1718 [==============================] - 8s 5ms/step - loss: 0.6386 - val_loss: 0.6041\n",
            "Epoch 2/20\n",
            "1718/1718 [==============================] - 8s 5ms/step - loss: 0.5987 - val_loss: 0.5924\n",
            "Epoch 3/20\n",
            "1718/1718 [==============================] - 8s 5ms/step - loss: 0.5933 - val_loss: 0.5893\n",
            "Epoch 4/20\n",
            "1718/1718 [==============================] - 8s 5ms/step - loss: 0.5902 - val_loss: 0.5879\n",
            "Epoch 5/20\n",
            "1718/1718 [==============================] - 8s 5ms/step - loss: 0.5875 - val_loss: 0.5870\n",
            "Epoch 6/20\n",
            "1718/1718 [==============================] - 8s 4ms/step - loss: 0.5849 - val_loss: 0.5865\n",
            "Epoch 7/20\n",
            "1718/1718 [==============================] - 8s 5ms/step - loss: 0.5824 - val_loss: 0.5863\n",
            "Epoch 8/20\n",
            "1718/1718 [==============================] - 8s 5ms/step - loss: 0.5801 - val_loss: 0.5862\n",
            "Epoch 9/20\n",
            "1718/1718 [==============================] - 8s 4ms/step - loss: 0.5780 - val_loss: 0.5867\n"
          ],
          "name": "stdout"
        },
        {
          "output_type": "display_data",
          "data": {
            "image/png": "[encoded data removed]",
            "text/plain": [
              "<Figure size 432x288 with 1 Axes>"
            ]
          },
          "metadata": {
            "tags": [],
            "needs_background": "light"
          }
        },
        {
          "output_type": "stream",
          "text": [
            "INFO:tensorflow:Assets written to: /content/gdrive/My Drive/Machine Learning/movielens1m/Saved Models/CFRecommender_V_71m/assets\n",
            "CFpure_Recommender training...\n",
            "Epoch 1/20\n",
            "WARNING:tensorflow:Layer cf_recommender_4 is casting an input tensor from dtype float64 to the layer's dtype of float32, which is new behavior in TensorFlow 2.  The layer has dtype float32 because its dtype defaults to floatx.\n",
            "\n",
            "If you intended to run this layer in float32, you can safely ignore this warning. If in doubt, this warning is likely only an issue if you are porting a TensorFlow 1.X model to TensorFlow 2.\n",
            "\n",
            "To change all layers to have dtype float64 by default, call `tf.keras.backend.set_floatx('float64')`. To change just this layer, pass dtype='float64' to the layer constructor. If you are the author of this layer, you can disable autocasting by passing autocast=False to the base Layer constructor.\n",
            "\n"
          ],
          "name": "stdout"
        },
        {
          "output_type": "stream",
          "text": [
            "/usr/local/lib/python3.6/dist-packages/tensorflow/python/framework/indexed_slices.py:432: UserWarning: Converting sparse IndexedSlices to a dense Tensor of unknown shape. This may consume a large amount of memory.\n",
            "  \"Converting sparse IndexedSlices to a dense Tensor of unknown shape. \"\n"
          ],
          "name": "stderr"
        },
        {
          "output_type": "stream",
          "text": [
            "WARNING:tensorflow:Gradients do not exist for variables ['embedding_17/embeddings:0', 'embedding_19/embeddings:0'] when minimizing the loss.\n",
            "WARNING:tensorflow:Gradients do not exist for variables ['embedding_17/embeddings:0', 'embedding_19/embeddings:0'] when minimizing the loss.\n",
            "WARNING:tensorflow:Gradients do not exist for variables ['embedding_17/embeddings:0', 'embedding_19/embeddings:0'] when minimizing the loss.\n",
            "WARNING:tensorflow:Gradients do not exist for variables ['embedding_17/embeddings:0', 'embedding_19/embeddings:0'] when minimizing the loss.\n",
            "1718/1718 [==============================] - 8s 5ms/step - loss: 0.6388 - val_loss: 0.6042\n",
            "Epoch 2/20\n",
            "1718/1718 [==============================] - 8s 5ms/step - loss: 0.5993 - val_loss: 0.5930\n",
            "Epoch 3/20\n",
            "1718/1718 [==============================] - 8s 5ms/step - loss: 0.5945 - val_loss: 0.5896\n",
            "Epoch 4/20\n",
            "1718/1718 [==============================] - 8s 5ms/step - loss: 0.5910 - val_loss: 0.5878\n",
            "Epoch 5/20\n",
            "1718/1718 [==============================] - 8s 5ms/step - loss: 0.5877 - val_loss: 0.5869\n",
            "Epoch 6/20\n",
            "1718/1718 [==============================] - 8s 5ms/step - loss: 0.5848 - val_loss: 0.5865\n",
            "Epoch 7/20\n",
            "1718/1718 [==============================] - 8s 5ms/step - loss: 0.5822 - val_loss: 0.5862\n",
            "Epoch 8/20\n",
            "1718/1718 [==============================] - 8s 4ms/step - loss: 0.5800 - val_loss: 0.5862\n"
          ],
          "name": "stdout"
        },
        {
          "output_type": "display_data",
          "data": {
            "image/png": "[encoded data removed]",
            "text/plain": [
              "<Figure size 432x288 with 1 Axes>"
            ]
          },
          "metadata": {
            "tags": [],
            "needs_background": "light"
          }
        },
        {
          "output_type": "stream",
          "text": [
            "INFO:tensorflow:Assets written to: /content/gdrive/My Drive/Machine Learning/movielens1m/Saved Models/CFpure_Recommender_V_71m/assets\n",
            "(879409,) (879409,)\n",
            "\n",
            "(120800,) (120800,)\n",
            "\n",
            "(879409,) (879409,)\n",
            "\n",
            "(120800,) (120800,)\n",
            "\n",
            "(879409,) (879409,)\n",
            "\n",
            "(120800,) (120800,)\n",
            "\n"
          ],
          "name": "stdout"
        }
      ]
    },
    {
      "cell_type": "code",
      "metadata": {
        "id": "3kfEwMhj7nb4",
        "colab_type": "code",
        "colab": {
          "base_uri": "https://localhost:8080/",
          "height": 140
        },
        "outputId": "8e119cc2-3cd6-4888-8bdc-992109830f4c"
      },
      "source": [
        "display(df1) \n",
        "# val_loss instead of loss\n",
        "# hparam['lr'] = 0.001\n",
        "# hparam['embeddings_initializer'] = 'glorot_uniform'\n",
        "# hparam['embedding_regularization'] = 1+e-6\n",
        "# hparam['embedding_size'] = 30\n",
        "# hparam['pure_CF'] = 0"
      ],
      "execution_count": null,
      "outputs": [
        {
          "output_type": "display_data",
          "data": {
            "text/html": [
              "<div>\n",
              "<style scoped>\n",
              "    .dataframe tbody tr th:only-of-type {\n",
              "        vertical-align: middle;\n",
              "    }\n",
              "\n",
              "    .dataframe tbody tr th {\n",
              "        vertical-align: top;\n",
              "    }\n",
              "\n",
              "    .dataframe thead th {\n",
              "        text-align: right;\n",
              "    }\n",
              "</style>\n",
              "<table border=\"1\" class=\"dataframe\">\n",
              "  <thead>\n",
              "    <tr style=\"text-align: right;\">\n",
              "      <th></th>\n",
              "      <th>model</th>\n",
              "      <th>rmse train</th>\n",
              "      <th>rmse test</th>\n",
              "    </tr>\n",
              "  </thead>\n",
              "  <tbody>\n",
              "    <tr>\n",
              "      <th>0</th>\n",
              "      <td>bias Baseline</td>\n",
              "      <td>0.237321</td>\n",
              "      <td>0.244797</td>\n",
              "    </tr>\n",
              "    <tr>\n",
              "      <th>0</th>\n",
              "      <td>CF</td>\n",
              "      <td>0.194291</td>\n",
              "      <td>0.236018</td>\n",
              "    </tr>\n",
              "    <tr>\n",
              "      <th>0</th>\n",
              "      <td>CFpure</td>\n",
              "      <td>0.197200</td>\n",
              "      <td>0.236195</td>\n",
              "    </tr>\n",
              "  </tbody>\n",
              "</table>\n",
              "</div>"
            ],
            "text/plain": [
              "           model  rmse train  rmse test\n",
              "0  bias Baseline    0.237321   0.244797\n",
              "0             CF    0.194291   0.236018\n",
              "0         CFpure    0.197200   0.236195"
            ]
          },
          "metadata": {
            "tags": []
          }
        }
      ]
    },
    {
      "cell_type": "code",
      "metadata": {
        "id": "TQN7BCGEdmGJ",
        "colab_type": "code",
        "colab": {
          "base_uri": "https://localhost:8080/",
          "height": 140
        },
        "outputId": "b5369859-f1bb-4914-bf1e-a7766b5be8cb"
      },
      "source": [
        "display(df1) \n",
        "#loss\n",
        "# hparam['lr'] = 0.001\n",
        "# hparam['embeddings_initializer'] = 'glorot_uniform'\n",
        "# hparam['embedding_regularization'] = 1e-6\n",
        "# hparam['embedding_size'] = 30\n",
        "# hparam['pure_CF'] = 0"
      ],
      "execution_count": null,
      "outputs": [
        {
          "output_type": "display_data",
          "data": {
            "text/html": [
              "<div>\n",
              "<style scoped>\n",
              "    .dataframe tbody tr th:only-of-type {\n",
              "        vertical-align: middle;\n",
              "    }\n",
              "\n",
              "    .dataframe tbody tr th {\n",
              "        vertical-align: top;\n",
              "    }\n",
              "\n",
              "    .dataframe thead th {\n",
              "        text-align: right;\n",
              "    }\n",
              "</style>\n",
              "<table border=\"1\" class=\"dataframe\">\n",
              "  <thead>\n",
              "    <tr style=\"text-align: right;\">\n",
              "      <th></th>\n",
              "      <th>model</th>\n",
              "      <th>rmse train</th>\n",
              "      <th>rmse test</th>\n",
              "    </tr>\n",
              "  </thead>\n",
              "  <tbody>\n",
              "    <tr>\n",
              "      <th>0</th>\n",
              "      <td>bias Baseline</td>\n",
              "      <td>0.237321</td>\n",
              "      <td>0.244797</td>\n",
              "    </tr>\n",
              "    <tr>\n",
              "      <th>0</th>\n",
              "      <td>CF</td>\n",
              "      <td>0.174360</td>\n",
              "      <td>0.236544</td>\n",
              "    </tr>\n",
              "    <tr>\n",
              "      <th>0</th>\n",
              "      <td>CFpure</td>\n",
              "      <td>0.174650</td>\n",
              "      <td>0.236769</td>\n",
              "    </tr>\n",
              "  </tbody>\n",
              "</table>\n",
              "</div>"
            ],
            "text/plain": [
              "           model  rmse train  rmse test\n",
              "0  bias Baseline    0.237321   0.244797\n",
              "0             CF    0.174360   0.236544\n",
              "0         CFpure    0.174650   0.236769"
            ]
          },
          "metadata": {
            "tags": []
          }
        }
      ]
    },
    {
      "cell_type": "code",
      "metadata": {
        "id": "nufVdeDTZU46",
        "colab_type": "code",
        "colab": {
          "base_uri": "https://localhost:8080/",
          "height": 140
        },
        "outputId": "5f3e315a-c865-4ff8-90da-f9ba777e1da9"
      },
      "source": [
        "display(df1) #tuned model 0.01,he,40,1e-6,patience 1, loss"
      ],
      "execution_count": null,
      "outputs": [
        {
          "output_type": "display_data",
          "data": {
            "text/html": [
              "<div>\n",
              "<style scoped>\n",
              "    .dataframe tbody tr th:only-of-type {\n",
              "        vertical-align: middle;\n",
              "    }\n",
              "\n",
              "    .dataframe tbody tr th {\n",
              "        vertical-align: top;\n",
              "    }\n",
              "\n",
              "    .dataframe thead th {\n",
              "        text-align: right;\n",
              "    }\n",
              "</style>\n",
              "<table border=\"1\" class=\"dataframe\">\n",
              "  <thead>\n",
              "    <tr style=\"text-align: right;\">\n",
              "      <th></th>\n",
              "      <th>model</th>\n",
              "      <th>rmse train</th>\n",
              "      <th>rmse test</th>\n",
              "    </tr>\n",
              "  </thead>\n",
              "  <tbody>\n",
              "    <tr>\n",
              "      <th>0</th>\n",
              "      <td>bias Baseline</td>\n",
              "      <td>0.237321</td>\n",
              "      <td>0.244797</td>\n",
              "    </tr>\n",
              "    <tr>\n",
              "      <th>0</th>\n",
              "      <td>CF</td>\n",
              "      <td>0.183675</td>\n",
              "      <td>0.242563</td>\n",
              "    </tr>\n",
              "    <tr>\n",
              "      <th>0</th>\n",
              "      <td>CFpure</td>\n",
              "      <td>0.183939</td>\n",
              "      <td>0.243599</td>\n",
              "    </tr>\n",
              "  </tbody>\n",
              "</table>\n",
              "</div>"
            ],
            "text/plain": [
              "           model  rmse train  rmse test\n",
              "0  bias Baseline    0.237321   0.244797\n",
              "0             CF    0.183675   0.242563\n",
              "0         CFpure    0.183939   0.243599"
            ]
          },
          "metadata": {
            "tags": []
          }
        }
      ]
    },
    {
      "cell_type": "code",
      "metadata": {
        "id": "n2zAb6Yx9NJt",
        "colab_type": "code",
        "colab": {}
      },
      "source": [
        "display(df1) #1m, patience 1, loss, embedding dim 60,lr 0.002"
      ],
      "execution_count": null,
      "outputs": []
    },
    {
      "cell_type": "code",
      "metadata": {
        "id": "WNmxodw1_NG0",
        "colab_type": "code",
        "colab": {}
      },
      "source": [
        "display(df1) #1m, patience 1, loss, embedding dim 70,lr 0.002"
      ],
      "execution_count": null,
      "outputs": []
    },
    {
      "cell_type": "code",
      "metadata": {
        "id": "hybX-m_aB0L2",
        "colab_type": "code",
        "colab": {}
      },
      "source": [
        "display(df1) #1m, patience 1, loss, embedding dim 60,lr 0.002 ep = 20"
      ],
      "execution_count": null,
      "outputs": []
    },
    {
      "cell_type": "code",
      "metadata": {
        "id": "LlUNORgvHI9G",
        "colab_type": "code",
        "colab": {}
      },
      "source": [
        "display(df1) #1m, patience 1, loss, embedding dim 50,lr 0.002 ep = 20"
      ],
      "execution_count": null,
      "outputs": []
    },
    {
      "cell_type": "code",
      "metadata": {
        "id": "MKLmzbHafa4V",
        "colab_type": "code",
        "colab": {}
      },
      "source": [
        "display(df1)"
      ],
      "execution_count": null,
      "outputs": []
    },
    {
      "cell_type": "code",
      "metadata": {
        "id": "8oN9y7tT2Mjy",
        "colab_type": "code",
        "colab": {}
      },
      "source": [
        "display(df1) #1m, patience 1, val_loss, embedding dim 60,lr 0.002 ,ep 20"
      ],
      "execution_count": null,
      "outputs": []
    },
    {
      "cell_type": "code",
      "metadata": {
        "id": "YnX7d_23Kfhk",
        "colab_type": "code",
        "colab": {}
      },
      "source": [
        "display(df1) #1m, patience 1, val_loss, embedding dim 60,lr 0.002 ,ep 20 reg 1e-3"
      ],
      "execution_count": null,
      "outputs": []
    },
    {
      "cell_type": "code",
      "metadata": {
        "id": "wPX7tmPtMuMB",
        "colab_type": "code",
        "colab": {}
      },
      "source": [
        "display(df1) #1m, patience 1, loss, embedding dim 60,lr 0.002 ,ep 20 reg 1e-3"
      ],
      "execution_count": null,
      "outputs": []
    },
    {
      "cell_type": "code",
      "metadata": {
        "id": "NV2TsF_5QFtt",
        "colab_type": "code",
        "colab": {}
      },
      "source": [
        ""
      ],
      "execution_count": null,
      "outputs": []
    },
    {
      "cell_type": "code",
      "metadata": {
        "id": "7Mb55VRq0t97",
        "colab_type": "code",
        "colab": {}
      },
      "source": [
        ""
      ],
      "execution_count": null,
      "outputs": []
    },
    {
      "cell_type": "markdown",
      "metadata": {
        "id": "v1z13--YcWRi",
        "colab_type": "text"
      },
      "source": [
        "# Old rmse evaluation\n",
        "\n",
        "doesnt work, remove this code"
      ]
    },
    {
      "cell_type": "code",
      "metadata": {
        "id": "sEs5ZYmPMHIZ",
        "colab_type": "code",
        "colab": {}
      },
      "source": [
        ""
      ],
      "execution_count": null,
      "outputs": []
    },
    {
      "cell_type": "markdown",
      "metadata": {
        "id": "7LHs8_ishDEq",
        "colab_type": "text"
      },
      "source": [
        "Evaluate model"
      ]
    },
    {
      "cell_type": "markdown",
      "metadata": {
        "id": "vw9f4niQ7UB-",
        "colab_type": "text"
      },
      "source": [
        "RMSE evaluation"
      ]
    },
    {
      "cell_type": "code",
      "metadata": {
        "id": "nC__UfK8jgUl",
        "colab_type": "code",
        "colab": {}
      },
      "source": [
        "## utility function to calculate rmse\n",
        "def rmse(predictions, targets):  \n",
        "  print(np.squeeze(predictions).shape, np.squeeze(targets).shape)\n",
        "  print('')\n",
        "  return np.sqrt(np.mean((np.squeeze(predictions)-np.squeeze(targets))**2))\n",
        "\n",
        "## function to return datafrmae of rmse evalutaion result\n",
        "def rmse_evaluate(model, x_train, x_test, y_train, y_test, model_name ):\n",
        "  BATCH_SIZE_P = 10\n",
        "\n",
        "  ratings_train = model.predict(np.reshape(np.array(x_train.values),(-1,4)), batch_size = BATCH_SIZE_P).flatten() ##remove .iloc for V1 model\n",
        "  ratings_test = model.predict(np.reshape(np.array(x_test.values),(-1,4)), batch_size = BATCH_SIZE_P).flatten() ##remove .iloc for V1 model\n",
        "\n",
        "  rmse_train = rmse(ratings_train, y_train)\n",
        "  rmse_test = rmse(ratings_test, y_test)\n",
        "\n",
        "  data = {'model':[model_name], 'rmse train':[rmse_train], 'rmse test':[rmse_test]}\n",
        "  df = pd.DataFrame(data)\n",
        "\n",
        "  return df\n"
      ],
      "execution_count": null,
      "outputs": []
    },
    {
      "cell_type": "code",
      "metadata": {
        "id": "s000m--qpED4",
        "colab_type": "code",
        "colab": {}
      },
      "source": [
        "def rmse_evaluate_main(df_ratings):\n",
        "  # x_train, x_test, y_train, y_test, global_avg = prepare_data(df_ratings)\n",
        "  \n",
        "  ############### prepare data #########\n",
        "  x_train, x_test, y_train, y_test, global_avg = prepare_data(df_ratings)\n",
        "\n",
        "  ############# get model ##############\n",
        "  num_users = df_ratings['userId'].unique().max() +1\n",
        "  num_movies = df_ratings['movieId'].unique().max() +1\n",
        "  EMBEDDING_SIZE = 50\n",
        "\n",
        "  lr =  0.002 #2e-2 tune this\n",
        "  \n",
        "  model_CF = CFmodel(num_users = num_users, num_movies=num_movies, EMBEDDING_SIZE =EMBEDDING_SIZE, global_avg = global_avg, lr = lr)\n",
        "  model_base = Basemodel( global_avg = global_avg)\n",
        "  # model_mu = mumodel( global_avg = global_avg)\n",
        "  model_CF_pure = CFpure(num_users = num_users, num_movies=num_movies, EMBEDDING_SIZE =EMBEDDING_SIZE, global_avg = global_avg, lr = lr)\n",
        "  ############ train/load model #############\n",
        "  train = True # True\n",
        "  \n",
        "  if train or not os.path.isdir(base_dir + \"Saved Models/\"+'CFRecommender'+'_V_'+ '6'+'refined'):\n",
        "    model_CF = train_CFmodel(model_CF, x_train, y_train, x_test, y_test)\n",
        "  else:\n",
        "    model_CF = keras.models.load_model(base_dir + \"Saved Models/\"+'CFRecommender'+'_V_'+ '6'+'refined')\n",
        "    \n",
        "  save = True #True\n",
        "  if save:\n",
        "    model_CF.save(base_dir + \"Saved Models/\"+'CFRecommender'+'_V_'+ '6'+ 'refined') #'_mu' + '_bias'+'_meaningful_embeddings_allembeddings_he_initialized'\n",
        " \n",
        "  model_CF_pure = train_CFmodel(model_CF_pure, x_train, y_train, x_test, y_test)\n",
        "\n",
        "  # model = keras.models.load_model(base_dir + \"Saved Models/\"+'CFRecommender'+'_V_'+ '5'+ '_mu' + '_bias'+'_meaningful_embeddings_allembeddings_he_initialized')\n",
        "  ############ evaluate models #########\n",
        "  # df = rmse_evaluate(model_mu,x_train, x_test, y_train, y_test,\"mu Baseline\")\n",
        "\n",
        "\n",
        "  df = rmse_evaluate(model_base,x_train, x_test, y_train, y_test,\"bias Baseline\")\n",
        "  df = df.append(rmse_evaluate(model_CF,x_train, x_test, y_train, y_test,\"CF\"))\n",
        "  df = df.append(rmse_evaluate(model_CF_pure,x_train, x_test, y_train, y_test,\"CFpure\"))\n",
        "  return(df, model_CF, model_base, model_CF_pure)\n",
        "\n",
        "\n",
        "\n"
      ],
      "execution_count": null,
      "outputs": []
    },
    {
      "cell_type": "code",
      "metadata": {
        "id": "MRorrGzfEodG",
        "colab_type": "code",
        "colab": {
          "base_uri": "https://localhost:8080/",
          "height": 2887
        },
        "outputId": "a8d4f817-d5b6-4acf-a313-e925b62f7b3c"
      },
      "source": [
        "df, model_CF, model_base, model_CF_pure = rmse_evaluate_main(df_ratings)"
      ],
      "execution_count": null,
      "outputs": [
        {
          "output_type": "stream",
          "text": [
            "/usr/local/lib/python3.6/dist-packages/ipykernel_launcher.py:85: SettingWithCopyWarning: \n",
            "A value is trying to be set on a copy of a slice from a DataFrame.\n",
            "Try using .loc[row_indexer,col_indexer] = value instead\n",
            "\n",
            "See the caveats in the documentation: https://pandas.pydata.org/pandas-docs/stable/user_guide/indexing.html#returning-a-view-versus-a-copy\n",
            "/usr/local/lib/python3.6/dist-packages/ipykernel_launcher.py:86: SettingWithCopyWarning: \n",
            "A value is trying to be set on a copy of a slice from a DataFrame.\n",
            "Try using .loc[row_indexer,col_indexer] = value instead\n",
            "\n",
            "See the caveats in the documentation: https://pandas.pydata.org/pandas-docs/stable/user_guide/indexing.html#returning-a-view-versus-a-copy\n",
            "/usr/local/lib/python3.6/dist-packages/ipykernel_launcher.py:88: SettingWithCopyWarning: \n",
            "A value is trying to be set on a copy of a slice from a DataFrame.\n",
            "Try using .loc[row_indexer,col_indexer] = value instead\n",
            "\n",
            "See the caveats in the documentation: https://pandas.pydata.org/pandas-docs/stable/user_guide/indexing.html#returning-a-view-versus-a-copy\n",
            "/usr/local/lib/python3.6/dist-packages/ipykernel_launcher.py:89: SettingWithCopyWarning: \n",
            "A value is trying to be set on a copy of a slice from a DataFrame.\n",
            "Try using .loc[row_indexer,col_indexer] = value instead\n",
            "\n",
            "See the caveats in the documentation: https://pandas.pydata.org/pandas-docs/stable/user_guide/indexing.html#returning-a-view-versus-a-copy\n"
          ],
          "name": "stderr"
        },
        {
          "output_type": "stream",
          "text": [
            "Model: \"cf_recommender\"\n",
            "_________________________________________________________________\n",
            "Layer (type)                 Output Shape              Param #   \n",
            "=================================================================\n",
            "embedding (Embedding)        multiple                  302050    \n",
            "_________________________________________________________________\n",
            "embedding_1 (Embedding)      multiple                  6041      \n",
            "_________________________________________________________________\n",
            "embedding_2 (Embedding)      multiple                  197650    \n",
            "_________________________________________________________________\n",
            "embedding_3 (Embedding)      multiple                  3953      \n",
            "=================================================================\n",
            "Total params: 509,694\n",
            "Trainable params: 509,694\n",
            "Non-trainable params: 0\n",
            "_________________________________________________________________\n",
            "Model: \"cf_recommender_1\"\n",
            "_________________________________________________________________\n",
            "Layer (type)                 Output Shape              Param #   \n",
            "=================================================================\n",
            "embedding_4 (Embedding)      multiple                  302050    \n",
            "_________________________________________________________________\n",
            "embedding_5 (Embedding)      multiple                  6041      \n",
            "_________________________________________________________________\n",
            "embedding_6 (Embedding)      multiple                  197650    \n",
            "_________________________________________________________________\n",
            "embedding_7 (Embedding)      multiple                  3953      \n",
            "=================================================================\n",
            "Total params: 509,694\n",
            "Trainable params: 509,694\n",
            "Non-trainable params: 0\n",
            "_________________________________________________________________\n",
            "Epoch 1/10\n",
            "WARNING:tensorflow:Layer cf_recommender is casting an input tensor from dtype float64 to the layer's dtype of float32, which is new behavior in TensorFlow 2.  The layer has dtype float32 because its dtype defaults to floatx.\n",
            "\n",
            "If you intended to run this layer in float32, you can safely ignore this warning. If in doubt, this warning is likely only an issue if you are porting a TensorFlow 1.X model to TensorFlow 2.\n",
            "\n",
            "To change all layers to have dtype float64 by default, call `tf.keras.backend.set_floatx('float64')`. To change just this layer, pass dtype='float64' to the layer constructor. If you are the author of this layer, you can disable autocasting by passing autocast=False to the base Layer constructor.\n",
            "\n",
            "WARNING:tensorflow:Gradients do not exist for variables ['embedding_1/embeddings:0', 'embedding_3/embeddings:0'] when minimizing the loss.\n",
            "WARNING:tensorflow:Gradients do not exist for variables ['embedding_1/embeddings:0', 'embedding_3/embeddings:0'] when minimizing the loss.\n"
          ],
          "name": "stdout"
        },
        {
          "output_type": "stream",
          "text": [
            "/usr/local/lib/python3.6/dist-packages/tensorflow/python/framework/indexed_slices.py:432: UserWarning: Converting sparse IndexedSlices to a dense Tensor of unknown shape. This may consume a large amount of memory.\n",
            "  \"Converting sparse IndexedSlices to a dense Tensor of unknown shape. \"\n"
          ],
          "name": "stderr"
        },
        {
          "output_type": "stream",
          "text": [
            "WARNING:tensorflow:Gradients do not exist for variables ['embedding_1/embeddings:0', 'embedding_3/embeddings:0'] when minimizing the loss.\n",
            "WARNING:tensorflow:Gradients do not exist for variables ['embedding_1/embeddings:0', 'embedding_3/embeddings:0'] when minimizing the loss.\n",
            "1759/1759 [==============================] - 11s 6ms/step - loss: 0.6158 - val_loss: 0.7102\n",
            "Epoch 2/10\n",
            "1759/1759 [==============================] - 11s 6ms/step - loss: 0.5970 - val_loss: 0.7160\n",
            "Epoch 3/10\n",
            "1759/1759 [==============================] - 11s 6ms/step - loss: 0.5914 - val_loss: 0.7197\n",
            "Epoch 4/10\n",
            "1759/1759 [==============================] - 11s 6ms/step - loss: 0.5883 - val_loss: 0.7215\n",
            "Epoch 5/10\n",
            "1759/1759 [==============================] - 11s 6ms/step - loss: 0.5867 - val_loss: 0.7225\n",
            "Epoch 6/10\n",
            "1759/1759 [==============================] - 11s 6ms/step - loss: 0.5860 - val_loss: 0.7230\n",
            "Epoch 7/10\n",
            "1759/1759 [==============================] - 11s 6ms/step - loss: 0.5854 - val_loss: 0.7234\n",
            "Epoch 8/10\n",
            "1759/1759 [==============================] - 11s 6ms/step - loss: 0.5851 - val_loss: 0.7236\n",
            "Epoch 9/10\n",
            "1759/1759 [==============================] - 11s 6ms/step - loss: 0.5849 - val_loss: 0.7237\n",
            "Epoch 10/10\n",
            "1759/1759 [==============================] - 11s 6ms/step - loss: 0.5847 - val_loss: 0.7238\n"
          ],
          "name": "stdout"
        },
        {
          "output_type": "display_data",
          "data": {
            "image/png": "[encoded data removed]",
            "text/plain": [
              "<Figure size 432x288 with 1 Axes>"
            ]
          },
          "metadata": {
            "tags": [],
            "needs_background": "light"
          }
        },
        {
          "output_type": "stream",
          "text": [
            "WARNING:tensorflow:From /usr/local/lib/python3.6/dist-packages/tensorflow/python/training/tracking/tracking.py:111: Model.state_updates (from tensorflow.python.keras.engine.training) is deprecated and will be removed in a future version.\n",
            "Instructions for updating:\n",
            "This property should not be used in TensorFlow 2.0, as updates are applied automatically.\n",
            "WARNING:tensorflow:From /usr/local/lib/python3.6/dist-packages/tensorflow/python/training/tracking/tracking.py:111: Layer.updates (from tensorflow.python.keras.engine.base_layer) is deprecated and will be removed in a future version.\n",
            "Instructions for updating:\n",
            "This property should not be used in TensorFlow 2.0, as updates are applied automatically.\n",
            "INFO:tensorflow:Assets written to: /content/gdrive/My Drive/Machine Learning/movielens1m/Saved Models/CFRecommender_V_6refined/assets\n",
            "Epoch 1/10\n",
            "WARNING:tensorflow:Layer cf_recommender_1 is casting an input tensor from dtype float64 to the layer's dtype of float32, which is new behavior in TensorFlow 2.  The layer has dtype float32 because its dtype defaults to floatx.\n",
            "\n",
            "If you intended to run this layer in float32, you can safely ignore this warning. If in doubt, this warning is likely only an issue if you are porting a TensorFlow 1.X model to TensorFlow 2.\n",
            "\n",
            "To change all layers to have dtype float64 by default, call `tf.keras.backend.set_floatx('float64')`. To change just this layer, pass dtype='float64' to the layer constructor. If you are the author of this layer, you can disable autocasting by passing autocast=False to the base Layer constructor.\n",
            "\n",
            "WARNING:tensorflow:Gradients do not exist for variables ['embedding_5/embeddings:0', 'embedding_7/embeddings:0'] when minimizing the loss.\n",
            "WARNING:tensorflow:Gradients do not exist for variables ['embedding_5/embeddings:0', 'embedding_7/embeddings:0'] when minimizing the loss.\n"
          ],
          "name": "stdout"
        },
        {
          "output_type": "stream",
          "text": [
            "/usr/local/lib/python3.6/dist-packages/tensorflow/python/framework/indexed_slices.py:432: UserWarning: Converting sparse IndexedSlices to a dense Tensor of unknown shape. This may consume a large amount of memory.\n",
            "  \"Converting sparse IndexedSlices to a dense Tensor of unknown shape. \"\n"
          ],
          "name": "stderr"
        },
        {
          "output_type": "stream",
          "text": [
            "WARNING:tensorflow:Gradients do not exist for variables ['embedding_5/embeddings:0', 'embedding_7/embeddings:0'] when minimizing the loss.\n",
            "WARNING:tensorflow:Gradients do not exist for variables ['embedding_5/embeddings:0', 'embedding_7/embeddings:0'] when minimizing the loss.\n",
            "1759/1759 [==============================] - 12s 7ms/step - loss: 0.6157 - val_loss: 0.7100\n",
            "Epoch 2/10\n",
            "1759/1759 [==============================] - 11s 6ms/step - loss: 0.5971 - val_loss: 0.7160\n",
            "Epoch 3/10\n",
            "1759/1759 [==============================] - 11s 6ms/step - loss: 0.5915 - val_loss: 0.7196\n",
            "Epoch 4/10\n",
            "1759/1759 [==============================] - 11s 6ms/step - loss: 0.5883 - val_loss: 0.7214\n",
            "Epoch 5/10\n",
            "1759/1759 [==============================] - 11s 6ms/step - loss: 0.5867 - val_loss: 0.7224\n",
            "Epoch 6/10\n",
            "1759/1759 [==============================] - 11s 6ms/step - loss: 0.5860 - val_loss: 0.7230\n",
            "Epoch 7/10\n",
            "1759/1759 [==============================] - 11s 6ms/step - loss: 0.5853 - val_loss: 0.7233\n",
            "Epoch 8/10\n",
            "1759/1759 [==============================] - 11s 6ms/step - loss: 0.5849 - val_loss: 0.7235\n",
            "Epoch 9/10\n",
            "1759/1759 [==============================] - 11s 6ms/step - loss: 0.5846 - val_loss: 0.7237\n",
            "Epoch 10/10\n",
            "1759/1759 [==============================] - 11s 6ms/step - loss: 0.5844 - val_loss: 0.7237\n"
          ],
          "name": "stdout"
        },
        {
          "output_type": "display_data",
          "data": {
            "image/png": "[encoded data removed]",
            "text/plain": [
              "<Figure size 432x288 with 1 Axes>"
            ]
          },
          "metadata": {
            "tags": [],
            "needs_background": "light"
          }
        },
        {
          "output_type": "stream",
          "text": [
            "(900188,) (900188,)\n",
            "\n",
            "(100021,) (100021,)\n",
            "\n",
            "(900188,) (900188,)\n",
            "\n",
            "(100021,) (100021,)\n",
            "\n",
            "(900188,) (900188,)\n",
            "\n",
            "(100021,) (100021,)\n",
            "\n"
          ],
          "name": "stdout"
        }
      ]
    },
    {
      "cell_type": "code",
      "metadata": {
        "id": "NISJTXXBE6yc",
        "colab_type": "code",
        "colab": {
          "base_uri": "https://localhost:8080/",
          "height": 140
        },
        "outputId": "304385b2-bb9c-4ce2-9519-d5927f251fa9"
      },
      "source": [
        "display(df)"
      ],
      "execution_count": null,
      "outputs": [
        {
          "output_type": "display_data",
          "data": {
            "text/html": [
              "<div>\n",
              "<style scoped>\n",
              "    .dataframe tbody tr th:only-of-type {\n",
              "        vertical-align: middle;\n",
              "    }\n",
              "\n",
              "    .dataframe tbody tr th {\n",
              "        vertical-align: top;\n",
              "    }\n",
              "\n",
              "    .dataframe thead th {\n",
              "        text-align: right;\n",
              "    }\n",
              "</style>\n",
              "<table border=\"1\" class=\"dataframe\">\n",
              "  <thead>\n",
              "    <tr style=\"text-align: right;\">\n",
              "      <th></th>\n",
              "      <th>model</th>\n",
              "      <th>rmse train</th>\n",
              "      <th>rmse test</th>\n",
              "    </tr>\n",
              "  </thead>\n",
              "  <tbody>\n",
              "    <tr>\n",
              "      <th>0</th>\n",
              "      <td>bias Baseline</td>\n",
              "      <td>0.237359</td>\n",
              "      <td>0.256709</td>\n",
              "    </tr>\n",
              "    <tr>\n",
              "      <th>0</th>\n",
              "      <td>CF</td>\n",
              "      <td>0.168583</td>\n",
              "      <td>0.319274</td>\n",
              "    </tr>\n",
              "    <tr>\n",
              "      <th>0</th>\n",
              "      <td>CFpure</td>\n",
              "      <td>0.168314</td>\n",
              "      <td>0.319254</td>\n",
              "    </tr>\n",
              "  </tbody>\n",
              "</table>\n",
              "</div>"
            ],
            "text/plain": [
              "           model  rmse train  rmse test\n",
              "0  bias Baseline    0.237359   0.256709\n",
              "0             CF    0.168583   0.319274\n",
              "0         CFpure    0.168314   0.319254"
            ]
          },
          "metadata": {
            "tags": []
          }
        }
      ]
    },
    {
      "cell_type": "code",
      "metadata": {
        "id": "RGxXS2W8E9Kp",
        "colab_type": "code",
        "colab": {
          "base_uri": "https://localhost:8080/",
          "height": 54
        },
        "outputId": "701a2a8b-6249-48af-82d6-54337cc5da3e"
      },
      "source": [
        "# model_CF.save(base_dir + \"Saved Models/\"+'CFRecommender'+'_V_'+ '6'+ 'refined') #'_mu' + '_bias'+'_meaningful_embeddings_allembeddings_he_initialized'"
      ],
      "execution_count": null,
      "outputs": [
        {
          "output_type": "stream",
          "text": [
            "INFO:tensorflow:Assets written to: /content/gdrive/My Drive/Machine Learning/movielens1m/Saved Models/CFRecommender_V_6refined/assets\n"
          ],
          "name": "stdout"
        }
      ]
    },
    {
      "cell_type": "markdown",
      "metadata": {
        "id": "jE_gS_B7ciL2",
        "colab_type": "text"
      },
      "source": [
        "# Explore embeddings and see predictions\n",
        "todo- add tSNE of embeddings classified on genre"
      ]
    },
    {
      "cell_type": "markdown",
      "metadata": {
        "id": "ez_1fSl57Pd9",
        "colab_type": "text"
      },
      "source": [
        "Analyse Embeddings\n"
      ]
    },
    {
      "cell_type": "code",
      "metadata": {
        "id": "ZpDFt7RSCPP2",
        "colab_type": "code",
        "colab": {}
      },
      "source": [
        "def sim(model, df_movies, id=1):\n",
        "\n",
        "  movie_embedding = model.layers[2]\n",
        "  weights = movie_embedding.get_weights()[0]\n",
        "  # print(weights)\n",
        "  # print(weights.shape)\n",
        "\n",
        "\n",
        "  id =id #122912\t #189333 mi #184641 fma #122912 infinity w #593 silence #215 before sunrise #6710+42 dark knight #318 shawshank   #187593 dp #68791 terminator # 4369 ff #122916 thor #1210 starwars\n",
        "  similarity = np.dot(weights,weights[id,:].T)/(np.linalg.norm(weights,axis =1)+0.00000001)/(np.linalg.norm(weights[id,:])+0.00000001)\n",
        "  # print(similarity.shape)\n",
        "  sim = pd.DataFrame(similarity)\n",
        "  sim['movieId'] = np.arange(df_movies['movieId'].unique().max()+1)\n",
        "  sim.columns = ['similarity', 'movieId']\n",
        "  sim = sim.merge(df_movies, on = 'movieId')\n",
        "  sim = sim.sort_values(by = 'similarity', ascending = False)\n",
        "  display(sim[:15])\n",
        "  display(sim[-5:])"
      ],
      "execution_count": null,
      "outputs": []
    },
    {
      "cell_type": "code",
      "metadata": {
        "id": "PyKoP0n1Cuu8",
        "colab_type": "code",
        "colab": {
          "base_uri": "https://localhost:8080/",
          "height": 844
        },
        "outputId": "049136f4-f264-4f01-e3c5-5d08ae2dbf1d"
      },
      "source": [
        "model_CF = saved_model()\n",
        "sim(model_CF,df_movies,1)"
      ],
      "execution_count": null,
      "outputs": [
        {
          "output_type": "display_data",
          "data": {
            "text/html": [
              "<div>\n",
              "<style scoped>\n",
              "    .dataframe tbody tr th:only-of-type {\n",
              "        vertical-align: middle;\n",
              "    }\n",
              "\n",
              "    .dataframe tbody tr th {\n",
              "        vertical-align: top;\n",
              "    }\n",
              "\n",
              "    .dataframe thead th {\n",
              "        text-align: right;\n",
              "    }\n",
              "</style>\n",
              "<table border=\"1\" class=\"dataframe\">\n",
              "  <thead>\n",
              "    <tr style=\"text-align: right;\">\n",
              "      <th></th>\n",
              "      <th>similarity</th>\n",
              "      <th>movieId</th>\n",
              "      <th>title</th>\n",
              "      <th>genres</th>\n",
              "    </tr>\n",
              "  </thead>\n",
              "  <tbody>\n",
              "    <tr>\n",
              "      <th>0</th>\n",
              "      <td>1.000000</td>\n",
              "      <td>1</td>\n",
              "      <td>Toy Story (1995)</td>\n",
              "      <td>Animation|Children's|Comedy</td>\n",
              "    </tr>\n",
              "    <tr>\n",
              "      <th>3045</th>\n",
              "      <td>0.825308</td>\n",
              "      <td>3114</td>\n",
              "      <td>Toy Story 2 (1999)</td>\n",
              "      <td>Animation|Children's|Comedy</td>\n",
              "    </tr>\n",
              "    <tr>\n",
              "      <th>2286</th>\n",
              "      <td>0.723963</td>\n",
              "      <td>2355</td>\n",
              "      <td>Bug's Life, A (1998)</td>\n",
              "      <td>Animation|Children's|Comedy</td>\n",
              "    </tr>\n",
              "    <tr>\n",
              "      <th>360</th>\n",
              "      <td>0.652019</td>\n",
              "      <td>364</td>\n",
              "      <td>Lion King, The (1994)</td>\n",
              "      <td>Animation|Children's|Musical</td>\n",
              "    </tr>\n",
              "    <tr>\n",
              "      <th>584</th>\n",
              "      <td>0.610675</td>\n",
              "      <td>588</td>\n",
              "      <td>Aladdin (1992)</td>\n",
              "      <td>Animation|Children's|Comedy|Musical</td>\n",
              "    </tr>\n",
              "    <tr>\n",
              "      <th>2728</th>\n",
              "      <td>0.606673</td>\n",
              "      <td>2797</td>\n",
              "      <td>Big (1988)</td>\n",
              "      <td>Comedy|Fantasy</td>\n",
              "    </tr>\n",
              "    <tr>\n",
              "      <th>2182</th>\n",
              "      <td>0.597607</td>\n",
              "      <td>2251</td>\n",
              "      <td>Cabinet of Dr. Ramirez, The (1991)</td>\n",
              "      <td>Comedy</td>\n",
              "    </tr>\n",
              "    <tr>\n",
              "      <th>1636</th>\n",
              "      <td>0.593955</td>\n",
              "      <td>1682</td>\n",
              "      <td>Truman Show, The (1998)</td>\n",
              "      <td>Drama</td>\n",
              "    </tr>\n",
              "    <tr>\n",
              "      <th>3438</th>\n",
              "      <td>0.589344</td>\n",
              "      <td>3507</td>\n",
              "      <td>Odd Couple, The (1968)</td>\n",
              "      <td>Comedy</td>\n",
              "    </tr>\n",
              "    <tr>\n",
              "      <th>3682</th>\n",
              "      <td>0.586581</td>\n",
              "      <td>3751</td>\n",
              "      <td>Chicken Run (2000)</td>\n",
              "      <td>Animation|Children's|Comedy</td>\n",
              "    </tr>\n",
              "    <tr>\n",
              "      <th>3312</th>\n",
              "      <td>0.579646</td>\n",
              "      <td>3381</td>\n",
              "      <td>Slaves to the Underground (1997)</td>\n",
              "      <td>Comedy|Drama</td>\n",
              "    </tr>\n",
              "    <tr>\n",
              "      <th>1081</th>\n",
              "      <td>0.571245</td>\n",
              "      <td>1097</td>\n",
              "      <td>E.T. the Extra-Terrestrial (1982)</td>\n",
              "      <td>Children's|Drama|Fantasy|Sci-Fi</td>\n",
              "    </tr>\n",
              "    <tr>\n",
              "      <th>2012</th>\n",
              "      <td>0.565554</td>\n",
              "      <td>2081</td>\n",
              "      <td>Little Mermaid, The (1989)</td>\n",
              "      <td>Animation|Children's|Comedy|Musical|Romance</td>\n",
              "    </tr>\n",
              "    <tr>\n",
              "      <th>1873</th>\n",
              "      <td>0.562943</td>\n",
              "      <td>1942</td>\n",
              "      <td>All the King's Men (1949)</td>\n",
              "      <td>Drama</td>\n",
              "    </tr>\n",
              "    <tr>\n",
              "      <th>977</th>\n",
              "      <td>0.562261</td>\n",
              "      <td>989</td>\n",
              "      <td>Schlafes Bruder (Brother of Sleep) (1995)</td>\n",
              "      <td>Drama</td>\n",
              "    </tr>\n",
              "  </tbody>\n",
              "</table>\n",
              "</div>"
            ],
            "text/plain": [
              "      similarity  ...                                       genres\n",
              "0       1.000000  ...                  Animation|Children's|Comedy\n",
              "3045    0.825308  ...                  Animation|Children's|Comedy\n",
              "2286    0.723963  ...                  Animation|Children's|Comedy\n",
              "360     0.652019  ...                 Animation|Children's|Musical\n",
              "584     0.610675  ...          Animation|Children's|Comedy|Musical\n",
              "2728    0.606673  ...                               Comedy|Fantasy\n",
              "2182    0.597607  ...                                       Comedy\n",
              "1636    0.593955  ...                                        Drama\n",
              "3438    0.589344  ...                                       Comedy\n",
              "3682    0.586581  ...                  Animation|Children's|Comedy\n",
              "3312    0.579646  ...                                 Comedy|Drama\n",
              "1081    0.571245  ...              Children's|Drama|Fantasy|Sci-Fi\n",
              "2012    0.565554  ...  Animation|Children's|Comedy|Musical|Romance\n",
              "1873    0.562943  ...                                        Drama\n",
              "977     0.562261  ...                                        Drama\n",
              "\n",
              "[15 rows x 4 columns]"
            ]
          },
          "metadata": {
            "tags": []
          }
        },
        {
          "output_type": "display_data",
          "data": {
            "text/html": [
              "<div>\n",
              "<style scoped>\n",
              "    .dataframe tbody tr th:only-of-type {\n",
              "        vertical-align: middle;\n",
              "    }\n",
              "\n",
              "    .dataframe tbody tr th {\n",
              "        vertical-align: top;\n",
              "    }\n",
              "\n",
              "    .dataframe thead th {\n",
              "        text-align: right;\n",
              "    }\n",
              "</style>\n",
              "<table border=\"1\" class=\"dataframe\">\n",
              "  <thead>\n",
              "    <tr style=\"text-align: right;\">\n",
              "      <th></th>\n",
              "      <th>similarity</th>\n",
              "      <th>movieId</th>\n",
              "      <th>title</th>\n",
              "      <th>genres</th>\n",
              "    </tr>\n",
              "  </thead>\n",
              "  <tbody>\n",
              "    <tr>\n",
              "      <th>3596</th>\n",
              "      <td>-0.531322</td>\n",
              "      <td>3665</td>\n",
              "      <td>Curse of the Puppet Master (1998)</td>\n",
              "      <td>Horror|Sci-Fi|Thriller</td>\n",
              "    </tr>\n",
              "    <tr>\n",
              "      <th>2974</th>\n",
              "      <td>-0.539228</td>\n",
              "      <td>3043</td>\n",
              "      <td>Meatballs 4 (1992)</td>\n",
              "      <td>Comedy</td>\n",
              "    </tr>\n",
              "    <tr>\n",
              "      <th>654</th>\n",
              "      <td>-0.558108</td>\n",
              "      <td>660</td>\n",
              "      <td>August (1996)</td>\n",
              "      <td>Drama</td>\n",
              "    </tr>\n",
              "    <tr>\n",
              "      <th>218</th>\n",
              "      <td>-0.612164</td>\n",
              "      <td>220</td>\n",
              "      <td>Castle Freak (1995)</td>\n",
              "      <td>Horror</td>\n",
              "    </tr>\n",
              "    <tr>\n",
              "      <th>3082</th>\n",
              "      <td>-0.618153</td>\n",
              "      <td>3151</td>\n",
              "      <td>Bat Whispers, The (1930)</td>\n",
              "      <td>Crime|Drama|Mystery</td>\n",
              "    </tr>\n",
              "  </tbody>\n",
              "</table>\n",
              "</div>"
            ],
            "text/plain": [
              "      similarity  ...                  genres\n",
              "3596   -0.531322  ...  Horror|Sci-Fi|Thriller\n",
              "2974   -0.539228  ...                  Comedy\n",
              "654    -0.558108  ...                   Drama\n",
              "218    -0.612164  ...                  Horror\n",
              "3082   -0.618153  ...     Crime|Drama|Mystery\n",
              "\n",
              "[5 rows x 4 columns]"
            ]
          },
          "metadata": {
            "tags": []
          }
        }
      ]
    },
    {
      "cell_type": "code",
      "metadata": {
        "id": "mgcgyXSDMxaK",
        "colab_type": "code",
        "colab": {
          "base_uri": "https://localhost:8080/",
          "height": 691
        },
        "outputId": "e96ed20b-aab2-4c9f-f5ba-9843fb8175de"
      },
      "source": [
        "sim(model_CF_pure,df_movies,215)"
      ],
      "execution_count": null,
      "outputs": [
        {
          "output_type": "display_data",
          "data": {
            "text/html": [
              "<div>\n",
              "<style scoped>\n",
              "    .dataframe tbody tr th:only-of-type {\n",
              "        vertical-align: middle;\n",
              "    }\n",
              "\n",
              "    .dataframe tbody tr th {\n",
              "        vertical-align: top;\n",
              "    }\n",
              "\n",
              "    .dataframe thead th {\n",
              "        text-align: right;\n",
              "    }\n",
              "</style>\n",
              "<table border=\"1\" class=\"dataframe\">\n",
              "  <thead>\n",
              "    <tr style=\"text-align: right;\">\n",
              "      <th></th>\n",
              "      <th>similarity</th>\n",
              "      <th>movieId</th>\n",
              "      <th>title</th>\n",
              "      <th>genres</th>\n",
              "    </tr>\n",
              "  </thead>\n",
              "  <tbody>\n",
              "    <tr>\n",
              "      <th>213</th>\n",
              "      <td>1.000000</td>\n",
              "      <td>215</td>\n",
              "      <td>Before Sunrise (1995)</td>\n",
              "      <td>Drama|Romance</td>\n",
              "    </tr>\n",
              "    <tr>\n",
              "      <th>2628</th>\n",
              "      <td>0.642365</td>\n",
              "      <td>2697</td>\n",
              "      <td>My Son the Fanatic (1998)</td>\n",
              "      <td>Comedy|Drama|Romance</td>\n",
              "    </tr>\n",
              "    <tr>\n",
              "      <th>1257</th>\n",
              "      <td>0.601406</td>\n",
              "      <td>1277</td>\n",
              "      <td>Cyrano de Bergerac (1990)</td>\n",
              "      <td>Action|Drama|Romance</td>\n",
              "    </tr>\n",
              "    <tr>\n",
              "      <th>1199</th>\n",
              "      <td>0.588046</td>\n",
              "      <td>1217</td>\n",
              "      <td>Ran (1985)</td>\n",
              "      <td>Drama|War</td>\n",
              "    </tr>\n",
              "    <tr>\n",
              "      <th>1866</th>\n",
              "      <td>0.576703</td>\n",
              "      <td>1935</td>\n",
              "      <td>How Green Was My Valley (1941)</td>\n",
              "      <td>Drama</td>\n",
              "    </tr>\n",
              "    <tr>\n",
              "      <th>2424</th>\n",
              "      <td>0.558626</td>\n",
              "      <td>2493</td>\n",
              "      <td>Harmonists, The (1997)</td>\n",
              "      <td>Drama</td>\n",
              "    </tr>\n",
              "    <tr>\n",
              "      <th>3401</th>\n",
              "      <td>0.553757</td>\n",
              "      <td>3470</td>\n",
              "      <td>Dersu Uzala (1974)</td>\n",
              "      <td>Adventure|Drama</td>\n",
              "    </tr>\n",
              "    <tr>\n",
              "      <th>1831</th>\n",
              "      <td>0.535995</td>\n",
              "      <td>1900</td>\n",
              "      <td>Children of Heaven, The (Bacheha-Ye Aseman) (1...</td>\n",
              "      <td>Drama</td>\n",
              "    </tr>\n",
              "    <tr>\n",
              "      <th>2863</th>\n",
              "      <td>0.532223</td>\n",
              "      <td>2932</td>\n",
              "      <td>Days of Heaven (1978)</td>\n",
              "      <td>Drama</td>\n",
              "    </tr>\n",
              "    <tr>\n",
              "      <th>1115</th>\n",
              "      <td>0.518218</td>\n",
              "      <td>1131</td>\n",
              "      <td>Jean de Florette (1986)</td>\n",
              "      <td>Drama</td>\n",
              "    </tr>\n",
              "    <tr>\n",
              "      <th>2525</th>\n",
              "      <td>0.516824</td>\n",
              "      <td>2594</td>\n",
              "      <td>Open Your Eyes (Abre los ojos) (1997)</td>\n",
              "      <td>Drama|Romance|Sci-Fi</td>\n",
              "    </tr>\n",
              "    <tr>\n",
              "      <th>1824</th>\n",
              "      <td>0.514797</td>\n",
              "      <td>1893</td>\n",
              "      <td>Beyond Silence (1996)</td>\n",
              "      <td>Drama</td>\n",
              "    </tr>\n",
              "    <tr>\n",
              "      <th>3132</th>\n",
              "      <td>0.512937</td>\n",
              "      <td>3201</td>\n",
              "      <td>Five Easy Pieces (1970)</td>\n",
              "      <td>Drama</td>\n",
              "    </tr>\n",
              "    <tr>\n",
              "      <th>491</th>\n",
              "      <td>0.511608</td>\n",
              "      <td>495</td>\n",
              "      <td>In the Realm of the Senses (Ai no corrida) (1976)</td>\n",
              "      <td>Drama</td>\n",
              "    </tr>\n",
              "    <tr>\n",
              "      <th>3463</th>\n",
              "      <td>0.508097</td>\n",
              "      <td>3532</td>\n",
              "      <td>Freedom for Us (� nous la libert� ) (1931)</td>\n",
              "      <td>Comedy</td>\n",
              "    </tr>\n",
              "  </tbody>\n",
              "</table>\n",
              "</div>"
            ],
            "text/plain": [
              "      similarity  ...                genres\n",
              "213     1.000000  ...         Drama|Romance\n",
              "2628    0.642365  ...  Comedy|Drama|Romance\n",
              "1257    0.601406  ...  Action|Drama|Romance\n",
              "1199    0.588046  ...             Drama|War\n",
              "1866    0.576703  ...                 Drama\n",
              "2424    0.558626  ...                 Drama\n",
              "3401    0.553757  ...       Adventure|Drama\n",
              "1831    0.535995  ...                 Drama\n",
              "2863    0.532223  ...                 Drama\n",
              "1115    0.518218  ...                 Drama\n",
              "2525    0.516824  ...  Drama|Romance|Sci-Fi\n",
              "1824    0.514797  ...                 Drama\n",
              "3132    0.512937  ...                 Drama\n",
              "491     0.511608  ...                 Drama\n",
              "3463    0.508097  ...                Comedy\n",
              "\n",
              "[15 rows x 4 columns]"
            ]
          },
          "metadata": {
            "tags": []
          }
        },
        {
          "output_type": "display_data",
          "data": {
            "text/html": [
              "<div>\n",
              "<style scoped>\n",
              "    .dataframe tbody tr th:only-of-type {\n",
              "        vertical-align: middle;\n",
              "    }\n",
              "\n",
              "    .dataframe tbody tr th {\n",
              "        vertical-align: top;\n",
              "    }\n",
              "\n",
              "    .dataframe thead th {\n",
              "        text-align: right;\n",
              "    }\n",
              "</style>\n",
              "<table border=\"1\" class=\"dataframe\">\n",
              "  <thead>\n",
              "    <tr style=\"text-align: right;\">\n",
              "      <th></th>\n",
              "      <th>similarity</th>\n",
              "      <th>movieId</th>\n",
              "      <th>title</th>\n",
              "      <th>genres</th>\n",
              "    </tr>\n",
              "  </thead>\n",
              "  <tbody>\n",
              "    <tr>\n",
              "      <th>2468</th>\n",
              "      <td>-0.412337</td>\n",
              "      <td>2537</td>\n",
              "      <td>Beyond the Poseidon Adventure (1979)</td>\n",
              "      <td>Adventure</td>\n",
              "    </tr>\n",
              "    <tr>\n",
              "      <th>1600</th>\n",
              "      <td>-0.423138</td>\n",
              "      <td>1646</td>\n",
              "      <td>Rocket Man (1997)</td>\n",
              "      <td>Comedy</td>\n",
              "    </tr>\n",
              "    <tr>\n",
              "      <th>2746</th>\n",
              "      <td>-0.446296</td>\n",
              "      <td>2815</td>\n",
              "      <td>Iron Eagle (1986)</td>\n",
              "      <td>Action|War</td>\n",
              "    </tr>\n",
              "    <tr>\n",
              "      <th>3362</th>\n",
              "      <td>-0.452282</td>\n",
              "      <td>3431</td>\n",
              "      <td>Death Wish II (1982)</td>\n",
              "      <td>Action|Drama</td>\n",
              "    </tr>\n",
              "    <tr>\n",
              "      <th>3876</th>\n",
              "      <td>-0.472776</td>\n",
              "      <td>3946</td>\n",
              "      <td>Get Carter (2000)</td>\n",
              "      <td>Action|Drama|Thriller</td>\n",
              "    </tr>\n",
              "  </tbody>\n",
              "</table>\n",
              "</div>"
            ],
            "text/plain": [
              "      similarity  ...                 genres\n",
              "2468   -0.412337  ...              Adventure\n",
              "1600   -0.423138  ...                 Comedy\n",
              "2746   -0.446296  ...             Action|War\n",
              "3362   -0.452282  ...           Action|Drama\n",
              "3876   -0.472776  ...  Action|Drama|Thriller\n",
              "\n",
              "[5 rows x 4 columns]"
            ]
          },
          "metadata": {
            "tags": []
          }
        }
      ]
    },
    {
      "cell_type": "code",
      "metadata": {
        "id": "RofGbpQ5Vmmz",
        "colab_type": "code",
        "colab": {
          "base_uri": "https://localhost:8080/",
          "height": 963
        },
        "outputId": "ea3453b7-fee5-49dc-e596-05a7003a06a9"
      },
      "source": [
        "sim(CFmodel(),df_movies,1)"
      ],
      "execution_count": null,
      "outputs": [
        {
          "output_type": "stream",
          "text": [
            "Model: \"cf_recommender\"\n",
            "_________________________________________________________________\n",
            "Layer (type)                 Output Shape              Param #   \n",
            "=================================================================\n",
            "embedding (Embedding)        multiple                  181230    \n",
            "_________________________________________________________________\n",
            "embedding_1 (Embedding)      multiple                  6041      \n",
            "_________________________________________________________________\n",
            "embedding_2 (Embedding)      multiple                  118590    \n",
            "_________________________________________________________________\n",
            "embedding_3 (Embedding)      multiple                  3953      \n",
            "=================================================================\n",
            "Total params: 309,814\n",
            "Trainable params: 309,814\n",
            "Non-trainable params: 0\n",
            "_________________________________________________________________\n"
          ],
          "name": "stdout"
        },
        {
          "output_type": "display_data",
          "data": {
            "text/html": [
              "<div>\n",
              "<style scoped>\n",
              "    .dataframe tbody tr th:only-of-type {\n",
              "        vertical-align: middle;\n",
              "    }\n",
              "\n",
              "    .dataframe tbody tr th {\n",
              "        vertical-align: top;\n",
              "    }\n",
              "\n",
              "    .dataframe thead th {\n",
              "        text-align: right;\n",
              "    }\n",
              "</style>\n",
              "<table border=\"1\" class=\"dataframe\">\n",
              "  <thead>\n",
              "    <tr style=\"text-align: right;\">\n",
              "      <th></th>\n",
              "      <th>similarity</th>\n",
              "      <th>movieId</th>\n",
              "      <th>title</th>\n",
              "      <th>genres</th>\n",
              "    </tr>\n",
              "  </thead>\n",
              "  <tbody>\n",
              "    <tr>\n",
              "      <th>0</th>\n",
              "      <td>1.000000</td>\n",
              "      <td>1</td>\n",
              "      <td>Toy Story (1995)</td>\n",
              "      <td>Animation|Children's|Comedy</td>\n",
              "    </tr>\n",
              "    <tr>\n",
              "      <th>26</th>\n",
              "      <td>0.622563</td>\n",
              "      <td>27</td>\n",
              "      <td>Now and Then (1995)</td>\n",
              "      <td>Drama</td>\n",
              "    </tr>\n",
              "    <tr>\n",
              "      <th>2580</th>\n",
              "      <td>0.615697</td>\n",
              "      <td>2649</td>\n",
              "      <td>Son of Frankenstein (1939)</td>\n",
              "      <td>Horror</td>\n",
              "    </tr>\n",
              "    <tr>\n",
              "      <th>1623</th>\n",
              "      <td>0.550291</td>\n",
              "      <td>1669</td>\n",
              "      <td>Tango Lesson, The (1997)</td>\n",
              "      <td>Romance</td>\n",
              "    </tr>\n",
              "    <tr>\n",
              "      <th>3678</th>\n",
              "      <td>0.522904</td>\n",
              "      <td>3747</td>\n",
              "      <td>Jesus' Son (1999)</td>\n",
              "      <td>Drama</td>\n",
              "    </tr>\n",
              "    <tr>\n",
              "      <th>1624</th>\n",
              "      <td>0.517774</td>\n",
              "      <td>1670</td>\n",
              "      <td>Welcome To Sarajevo (1997)</td>\n",
              "      <td>Drama|War</td>\n",
              "    </tr>\n",
              "    <tr>\n",
              "      <th>92</th>\n",
              "      <td>0.510233</td>\n",
              "      <td>94</td>\n",
              "      <td>Beautiful Girls (1996)</td>\n",
              "      <td>Drama</td>\n",
              "    </tr>\n",
              "    <tr>\n",
              "      <th>2597</th>\n",
              "      <td>0.509824</td>\n",
              "      <td>2666</td>\n",
              "      <td>It Conquered the World (1956)</td>\n",
              "      <td>Sci-Fi</td>\n",
              "    </tr>\n",
              "    <tr>\n",
              "      <th>2130</th>\n",
              "      <td>0.507234</td>\n",
              "      <td>2199</td>\n",
              "      <td>Phoenix (1998)</td>\n",
              "      <td>Crime|Drama</td>\n",
              "    </tr>\n",
              "    <tr>\n",
              "      <th>997</th>\n",
              "      <td>0.502151</td>\n",
              "      <td>1010</td>\n",
              "      <td>Love Bug, The (1969)</td>\n",
              "      <td>Children's|Comedy</td>\n",
              "    </tr>\n",
              "    <tr>\n",
              "      <th>2655</th>\n",
              "      <td>0.498880</td>\n",
              "      <td>2724</td>\n",
              "      <td>Runaway Bride (1999)</td>\n",
              "      <td>Comedy|Romance</td>\n",
              "    </tr>\n",
              "    <tr>\n",
              "      <th>3586</th>\n",
              "      <td>0.498448</td>\n",
              "      <td>3655</td>\n",
              "      <td>Blow-Out (La Grande Bouffe) (1973)</td>\n",
              "      <td>Drama</td>\n",
              "    </tr>\n",
              "    <tr>\n",
              "      <th>1558</th>\n",
              "      <td>0.496263</td>\n",
              "      <td>1599</td>\n",
              "      <td>Steel (1997)</td>\n",
              "      <td>Action</td>\n",
              "    </tr>\n",
              "    <tr>\n",
              "      <th>971</th>\n",
              "      <td>0.495157</td>\n",
              "      <td>983</td>\n",
              "      <td>Madagascar Skin (1995)</td>\n",
              "      <td>Romance</td>\n",
              "    </tr>\n",
              "    <tr>\n",
              "      <th>3548</th>\n",
              "      <td>0.489274</td>\n",
              "      <td>3617</td>\n",
              "      <td>Road Trip (2000)</td>\n",
              "      <td>Comedy</td>\n",
              "    </tr>\n",
              "  </tbody>\n",
              "</table>\n",
              "</div>"
            ],
            "text/plain": [
              "      similarity  ...                       genres\n",
              "0       1.000000  ...  Animation|Children's|Comedy\n",
              "26      0.622563  ...                        Drama\n",
              "2580    0.615697  ...                       Horror\n",
              "1623    0.550291  ...                      Romance\n",
              "3678    0.522904  ...                        Drama\n",
              "1624    0.517774  ...                    Drama|War\n",
              "92      0.510233  ...                        Drama\n",
              "2597    0.509824  ...                       Sci-Fi\n",
              "2130    0.507234  ...                  Crime|Drama\n",
              "997     0.502151  ...            Children's|Comedy\n",
              "2655    0.498880  ...               Comedy|Romance\n",
              "3586    0.498448  ...                        Drama\n",
              "1558    0.496263  ...                       Action\n",
              "971     0.495157  ...                      Romance\n",
              "3548    0.489274  ...                       Comedy\n",
              "\n",
              "[15 rows x 4 columns]"
            ]
          },
          "metadata": {
            "tags": []
          }
        },
        {
          "output_type": "display_data",
          "data": {
            "text/html": [
              "<div>\n",
              "<style scoped>\n",
              "    .dataframe tbody tr th:only-of-type {\n",
              "        vertical-align: middle;\n",
              "    }\n",
              "\n",
              "    .dataframe tbody tr th {\n",
              "        vertical-align: top;\n",
              "    }\n",
              "\n",
              "    .dataframe thead th {\n",
              "        text-align: right;\n",
              "    }\n",
              "</style>\n",
              "<table border=\"1\" class=\"dataframe\">\n",
              "  <thead>\n",
              "    <tr style=\"text-align: right;\">\n",
              "      <th></th>\n",
              "      <th>similarity</th>\n",
              "      <th>movieId</th>\n",
              "      <th>title</th>\n",
              "      <th>genres</th>\n",
              "    </tr>\n",
              "  </thead>\n",
              "  <tbody>\n",
              "    <tr>\n",
              "      <th>2002</th>\n",
              "      <td>-0.534181</td>\n",
              "      <td>2071</td>\n",
              "      <td>And the Band Played On (1993)</td>\n",
              "      <td>Drama</td>\n",
              "    </tr>\n",
              "    <tr>\n",
              "      <th>3104</th>\n",
              "      <td>-0.535154</td>\n",
              "      <td>3173</td>\n",
              "      <td>Any Given Sunday (1999)</td>\n",
              "      <td>Drama</td>\n",
              "    </tr>\n",
              "    <tr>\n",
              "      <th>3751</th>\n",
              "      <td>-0.560818</td>\n",
              "      <td>3821</td>\n",
              "      <td>Nutty Professor II: The Klumps (2000)</td>\n",
              "      <td>Comedy</td>\n",
              "    </tr>\n",
              "    <tr>\n",
              "      <th>334</th>\n",
              "      <td>-0.568549</td>\n",
              "      <td>338</td>\n",
              "      <td>Virtuosity (1995)</td>\n",
              "      <td>Sci-Fi|Thriller</td>\n",
              "    </tr>\n",
              "    <tr>\n",
              "      <th>817</th>\n",
              "      <td>-0.665592</td>\n",
              "      <td>828</td>\n",
              "      <td>Adventures of Pinocchio, The (1996)</td>\n",
              "      <td>Adventure|Children's</td>\n",
              "    </tr>\n",
              "  </tbody>\n",
              "</table>\n",
              "</div>"
            ],
            "text/plain": [
              "      similarity  ...                genres\n",
              "2002   -0.534181  ...                 Drama\n",
              "3104   -0.535154  ...                 Drama\n",
              "3751   -0.560818  ...                Comedy\n",
              "334    -0.568549  ...       Sci-Fi|Thriller\n",
              "817    -0.665592  ...  Adventure|Children's\n",
              "\n",
              "[5 rows x 4 columns]"
            ]
          },
          "metadata": {
            "tags": []
          }
        }
      ]
    },
    {
      "cell_type": "code",
      "metadata": {
        "id": "2tFAid3V8xog",
        "colab_type": "code",
        "colab": {}
      },
      "source": [
        "# tf.zeros([5]) + 8"
      ],
      "execution_count": null,
      "outputs": []
    },
    {
      "cell_type": "markdown",
      "metadata": {
        "id": "eSj9OrFV0u8C",
        "colab_type": "text"
      },
      "source": [
        "# keras tuner"
      ]
    },
    {
      "cell_type": "code",
      "metadata": {
        "id": "xPhJ-fii0wSJ",
        "colab_type": "code",
        "colab": {
          "base_uri": "https://localhost:8080/",
          "height": 68
        },
        "outputId": "3e10882f-6d61-45be-9fe0-746a2a180a38"
      },
      "source": [
        "!pip install -q -U keras-tuner\n",
        "import kerastuner as kt"
      ],
      "execution_count": null,
      "outputs": [
        {
          "output_type": "stream",
          "text": [
            "\u001b[?25l\r\u001b[K     |██████                          | 10kB 29.2MB/s eta 0:00:01\r\u001b[K     |████████████                    | 20kB 3.3MB/s eta 0:00:01\r\u001b[K     |██████████████████              | 30kB 4.5MB/s eta 0:00:01\r\u001b[K     |████████████████████████        | 40kB 4.8MB/s eta 0:00:01\r\u001b[K     |██████████████████████████████  | 51kB 3.9MB/s eta 0:00:01\r\u001b[K     |████████████████████████████████| 61kB 3.1MB/s \n",
            "\u001b[?25h  Building wheel for keras-tuner (setup.py) ... \u001b[?25l\u001b[?25hdone\n",
            "  Building wheel for terminaltables (setup.py) ... \u001b[?25l\u001b[?25hdone\n"
          ],
          "name": "stdout"
        }
      ]
    },
    {
      "cell_type": "code",
      "metadata": {
        "id": "VyBB3k3-2nDt",
        "colab_type": "code",
        "colab": {}
      },
      "source": [
        "x_train, x_test, y_train, y_test, global_avg = prepare_data_leftout(df_ratings, 20)\n",
        "num_users = df_ratings['userId'].unique().max() +1\n",
        "num_movies = df_ratings['movieId'].unique().max() +1\n",
        "  \n",
        "\n",
        "def model_builder(hp):\n",
        "  # model = keras.Sequential()\n",
        "  # model.add(keras.layers.Flatten(input_shape=(28, 28)))\n",
        "  ######################################################\n",
        "  # Tune the number of units in the first Dense layer\n",
        "  # Choose an optimal value between 32-512\n",
        "  # hp_units = hp.Int('units', min_value = 32, max_value = 512, step = 32)\n",
        "  # model.add(keras.layers.Dense(units = hp_units, activation = 'relu'))\n",
        "  # model.add(keras.layers.Dense(10))\n",
        "\n",
        "  hp_embedding = hp.Int('embedding_size', min_value = 30, max_value = 80, step = 10)\n",
        "  hp_lr = hp.Choice('learning_rate', values = [1e-2, 6e-3, 3e-3 ,1e-3, 1e-4]) \n",
        "  hp_emb_init = hp.Choice('embeddings_initializer',values = [\"glorot_uniform\", \"he_uniform\"])\n",
        "  hp_reg = hp.Choice('embedding_regularization', values = [1e-2, 1e-3,1e-4,1e-5,1e-6])\n",
        "  hp_pure = hp.Choice('pure CF model', values = [True, False])\n",
        "  import keras.backend as K\n",
        "  class CFRecommender(tf.keras.Model):\n",
        "    def __init__(self, num_users, num_movies, embedding_size, global_avg,hp_emb_init,hp_reg, hp_pure):\n",
        "      super().__init__()#CFRecommender, self\n",
        "      self.num_users = num_users\n",
        "      self.num_movies = num_movies\n",
        "      self.embedding_size = embedding_size\n",
        "      self.global_avg = global_avg\n",
        "      self.hp_emb_init = hp_emb_init\n",
        "      self.hp_pure = hp_pure\n",
        "      self.hp_reg = hp_reg \n",
        "      # self.user_mean_bias = user_mean_bias\n",
        "      # self.movie_mean_bias = movie_mean_bias\n",
        "\n",
        "      self.user_embedding = tf.keras.layers.Embedding(self.num_users,self.embedding_size,embeddings_regularizer=keras.regularizers.l2(hp_reg),embeddings_initializer=hp_emb_init)\n",
        "      self.user_bias = tf.keras.layers.Embedding(self.num_users, 1,embeddings_initializer=hp_emb_init) #, self.embedding_size embeddings_regularizer=keras.regularizers.l2(1e-6),\n",
        "\n",
        "      self.movie_embedding = tf.keras.layers.Embedding(self.num_movies, self.embedding_size,embeddings_regularizer=keras.regularizers.l2(hp_reg),embeddings_initializer=hp_emb_init)\n",
        "      self.movie_bias = tf.keras.layers.Embedding(self.num_movies, 1,embeddings_initializer=hp_emb_init) #, self.embedding_size\n",
        "\n",
        "    def call(self, inputs): #input: dim1 x 2\n",
        "\n",
        "      user_vector = self.user_embedding(inputs[:,0]) #dim1 x embedding_size\n",
        "      user_bias = self.user_bias(inputs[:,0]) #dim1 x 1\n",
        "\n",
        "      movie_vector = self.movie_embedding(inputs[:,1]) #dim1 x embedding_size\n",
        "      movie_bias = self.movie_bias(inputs[:,1]) #dim1 x 1\n",
        "\n",
        "      mu = self.global_avg\n",
        "\n",
        "      # user_avg = self.user_mean_bias.loc[inputs[:,0]].values\n",
        "      # movie_avg = self.movie_mean_bias.loc[inputs[:,1]].values\n",
        "      user_avg = inputs[:,2] #dim1 x 1\n",
        "      movie_avg = inputs[:,3] #dim1 x 1\n",
        "\n",
        "      \"\"\"\n",
        "      user_vector, movie_vector : (batch_size, embedding_dim)\n",
        "      \"\"\"\n",
        "      dot_user_movie = tf.reduce_sum(tf.math.multiply(user_vector,movie_vector), axis = 1) #tf.math.l2_normalize(user_vector,0) # tf.math.l2_normalize(movie_vector,0)  #dim1 x 1\n",
        "      # print('test0')\n",
        "      # print(K.int_shape(user_avg[:,np.newaxis]), K.int_shape(user_bias))\n",
        "      # print(K.int_shape(dot_user_movie), K.int_shape(tf.math.multiply(user_avg[:,np.newaxis],user_bias)),K.int_shape(tf.math.multiply(movie_avg[:,np.newaxis],movie_bias)) )\n",
        "      # print('test1')\n",
        "      \n",
        "      if hp_pure == True:\n",
        "        c_ratings = dot_user_movie\n",
        "      else:  \n",
        "        c_ratings = dot_user_movie + tf.math.multiply(user_avg,user_bias) + tf.math.multiply(movie_avg,movie_bias) + mu\n",
        "      # print('test2')\n",
        "\n",
        "      return tf.nn.sigmoid(dot_user_movie)\n",
        "\n",
        "\n",
        "  model = CFRecommender(num_users, num_movies, hp_embedding, global_avg,hp_emb_init,hp_reg, hp_pure)\n",
        "  model.build(input_shape=(None,4))\n",
        "  # model.summary()\n",
        "\n",
        "  #######################################################\n",
        "  \n",
        "  # Tune the learning rate for the optimizer \n",
        "  # Choose an optimal value from 0.01, 0.001, or 0.0001\n",
        "  # hp_learning_rate = hp.Choice('learning_rate', values = [1e-2, 1e-3, 1e-4]) \n",
        "  \n",
        "  model.compile(loss = tf.keras.losses.BinaryCrossentropy(), optimizer = keras.optimizers.Adam(hp_lr))#, metrics = ['acc']\n",
        "  \n",
        "  # model.compile(optimizer = keras.optimizers.Adam(learning_rate = hp_learning_rate),\n",
        "  #               loss = keras.losses.SparseCategoricalCrossentropy(from_logits = True), \n",
        "  #               metrics = ['accuracy'])\n",
        "  \n",
        "  return model"
      ],
      "execution_count": null,
      "outputs": []
    },
    {
      "cell_type": "code",
      "metadata": {
        "id": "P6QwsTBl3Ku2",
        "colab_type": "code",
        "colab": {
          "base_uri": "https://localhost:8080/",
          "height": 71
        },
        "outputId": "3622091a-e3f0-4727-c667-25caca2b72d8"
      },
      "source": [
        "tuner = kt.Hyperband(model_builder,\n",
        "                     objective = 'val_loss', \n",
        "                     max_epochs = 10,\n",
        "                     factor = 3,\n",
        "                     directory = \"/content/gdrive/My Drive/Machine Learning/movielens1m\"+ 'my_dir',\n",
        "                     project_name = 'intro_to_kt')    "
      ],
      "execution_count": null,
      "outputs": [
        {
          "output_type": "stream",
          "text": [
            "INFO:tensorflow:Reloading Oracle from existing project /content/gdrive/My Drive/Machine Learning/movielens1mmy_dir/intro_to_kt/oracle.json\n",
            "INFO:tensorflow:Reloading Tuner from /content/gdrive/My Drive/Machine Learning/movielens1mmy_dir/intro_to_kt/tuner0.json\n"
          ],
          "name": "stdout"
        }
      ]
    },
    {
      "cell_type": "code",
      "metadata": {
        "id": "3mJrPOXA3PWJ",
        "colab_type": "code",
        "colab": {}
      },
      "source": [
        "# callback = tf.keras.callbacks.EarlyStopping(        #check val_loss vs loss which one to consider\n",
        "#       monitor='loss', min_delta=0, patience=1, verbose=0, mode='auto',\n",
        "#       baseline=None, restore_best_weights=False\n",
        "#   )"
      ],
      "execution_count": null,
      "outputs": []
    },
    {
      "cell_type": "code",
      "metadata": {
        "id": "QNuKxEOYQ5S1",
        "colab_type": "code",
        "colab": {
          "base_uri": "https://localhost:8080/",
          "height": 258
        },
        "outputId": "38c8350f-6456-4112-8a51-ce85bee4a80e"
      },
      "source": [
        "!pip install IPython\n",
        "from IPython.display import clear_output"
      ],
      "execution_count": null,
      "outputs": [
        {
          "output_type": "stream",
          "text": [
            "Requirement already satisfied: IPython in /usr/local/lib/python3.6/dist-packages (5.5.0)\n",
            "Requirement already satisfied: prompt-toolkit<2.0.0,>=1.0.4 in /usr/local/lib/python3.6/dist-packages (from IPython) (1.0.18)\n",
            "Requirement already satisfied: pygments in /usr/local/lib/python3.6/dist-packages (from IPython) (2.1.3)\n",
            "Requirement already satisfied: setuptools>=18.5 in /usr/local/lib/python3.6/dist-packages (from IPython) (49.2.0)\n",
            "Requirement already satisfied: pexpect; sys_platform != \"win32\" in /usr/local/lib/python3.6/dist-packages (from IPython) (4.8.0)\n",
            "Requirement already satisfied: pickleshare in /usr/local/lib/python3.6/dist-packages (from IPython) (0.7.5)\n",
            "Requirement already satisfied: simplegeneric>0.8 in /usr/local/lib/python3.6/dist-packages (from IPython) (0.8.1)\n",
            "Requirement already satisfied: traitlets>=4.2 in /usr/local/lib/python3.6/dist-packages (from IPython) (4.3.3)\n",
            "Requirement already satisfied: decorator in /usr/local/lib/python3.6/dist-packages (from IPython) (4.4.2)\n",
            "Requirement already satisfied: wcwidth in /usr/local/lib/python3.6/dist-packages (from prompt-toolkit<2.0.0,>=1.0.4->IPython) (0.2.5)\n",
            "Requirement already satisfied: six>=1.9.0 in /usr/local/lib/python3.6/dist-packages (from prompt-toolkit<2.0.0,>=1.0.4->IPython) (1.15.0)\n",
            "Requirement already satisfied: ptyprocess>=0.5 in /usr/local/lib/python3.6/dist-packages (from pexpect; sys_platform != \"win32\"->IPython) (0.6.0)\n",
            "Requirement already satisfied: ipython-genutils in /usr/local/lib/python3.6/dist-packages (from traitlets>=4.2->IPython) (0.2.0)\n"
          ],
          "name": "stdout"
        }
      ]
    },
    {
      "cell_type": "code",
      "metadata": {
        "id": "j40dyTkJRD7u",
        "colab_type": "code",
        "colab": {}
      },
      "source": [
        "import IPython\n",
        "import IPython.display"
      ],
      "execution_count": null,
      "outputs": []
    },
    {
      "cell_type": "code",
      "metadata": {
        "id": "aRNbMlSoLetB",
        "colab_type": "code",
        "colab": {}
      },
      "source": [
        "class ClearTrainingOutput(tf.keras.callbacks.Callback):\n",
        "  def on_train_end(*args, **kwargs):\n",
        "    IPython.display.clear_output(wait = True)"
      ],
      "execution_count": null,
      "outputs": []
    },
    {
      "cell_type": "code",
      "metadata": {
        "id": "ncSFwCeMLfUt",
        "colab_type": "code",
        "colab": {
          "base_uri": "https://localhost:8080/",
          "height": 673
        },
        "outputId": "d2be45cb-dc2b-436c-cf59-d622660e77d0"
      },
      "source": [
        "tuner.search(x_train, y_train, epochs = 10, validation_data = (x_test, y_test), callbacks = [ClearTrainingOutput()] , batch_size = 512)\n",
        "\n",
        "# Get the optimal hyperparameters\n",
        "best_hps = tuner.get_best_hyperparameters(num_trials = 1)[0]\n",
        "\n",
        "print(f\"\"\"\n",
        "The hyperparameter search is complete. \n",
        "\n",
        "learning_rate = {best_hps.get('learning_rate')}\n",
        "embedding_size = {best_hps.get('embedding_size')}\n",
        "embeddings_initializer = {best_hps.get('embeddings_initializer')}\n",
        "embedding_regularization = {best_hps.get('embedding_regularization')}\n",
        "pure CF model = {best_hps.get('pure CF model')}\n",
        "\n",
        "\"\"\")"
      ],
      "execution_count": null,
      "outputs": [
        {
          "output_type": "display_data",
          "data": {
            "text/html": [
              "<span style=\"color:#4527A0\"><h1 style=\"font-size:18px\">Trial complete</h1></span>"
            ],
            "text/plain": [
              "<IPython.core.display.HTML object>"
            ]
          },
          "metadata": {
            "tags": []
          }
        },
        {
          "output_type": "display_data",
          "data": {
            "text/html": [
              "<span style=\"color:#4527A0\"><h1 style=\"font-size:18px\">Trial summary</h1></span>"
            ],
            "text/plain": [
              "<IPython.core.display.HTML object>"
            ]
          },
          "metadata": {
            "tags": []
          }
        },
        {
          "output_type": "display_data",
          "data": {
            "text/html": [
              "<span style=\"color:cyan\"> |-Trial ID: a2c5d0393b8578749d9eb99f201f235d</span>"
            ],
            "text/plain": [
              "<IPython.core.display.HTML object>"
            ]
          },
          "metadata": {
            "tags": []
          }
        },
        {
          "output_type": "display_data",
          "data": {
            "text/html": [
              "<span style=\"color:cyan\"> |-Score: 0.6931461691856384</span>"
            ],
            "text/plain": [
              "<IPython.core.display.HTML object>"
            ]
          },
          "metadata": {
            "tags": []
          }
        },
        {
          "output_type": "display_data",
          "data": {
            "text/html": [
              "<span style=\"color:cyan\"> |-Best step: 0</span>"
            ],
            "text/plain": [
              "<IPython.core.display.HTML object>"
            ]
          },
          "metadata": {
            "tags": []
          }
        },
        {
          "output_type": "display_data",
          "data": {
            "text/html": [
              "<span style=\"color:#7E57C2\"><h2 style=\"font-size:16px\">Hyperparameters:</h2></span>"
            ],
            "text/plain": [
              "<IPython.core.display.HTML object>"
            ]
          },
          "metadata": {
            "tags": []
          }
        },
        {
          "output_type": "display_data",
          "data": {
            "text/html": [
              "<span style=\"color:cyan\"> |-embedding_regularization: 0.01</span>"
            ],
            "text/plain": [
              "<IPython.core.display.HTML object>"
            ]
          },
          "metadata": {
            "tags": []
          }
        },
        {
          "output_type": "display_data",
          "data": {
            "text/html": [
              "<span style=\"color:blue\"> |-embedding_size: 50</span>"
            ],
            "text/plain": [
              "<IPython.core.display.HTML object>"
            ]
          },
          "metadata": {
            "tags": []
          }
        },
        {
          "output_type": "display_data",
          "data": {
            "text/html": [
              "<span style=\"color:cyan\"> |-embeddings_initializer: he_uniform</span>"
            ],
            "text/plain": [
              "<IPython.core.display.HTML object>"
            ]
          },
          "metadata": {
            "tags": []
          }
        },
        {
          "output_type": "display_data",
          "data": {
            "text/html": [
              "<span style=\"color:blue\"> |-learning_rate: 0.001</span>"
            ],
            "text/plain": [
              "<IPython.core.display.HTML object>"
            ]
          },
          "metadata": {
            "tags": []
          }
        },
        {
          "output_type": "display_data",
          "data": {
            "text/html": [
              "<span style=\"color:cyan\"> |-pure CF model: 0</span>"
            ],
            "text/plain": [
              "<IPython.core.display.HTML object>"
            ]
          },
          "metadata": {
            "tags": []
          }
        },
        {
          "output_type": "display_data",
          "data": {
            "text/html": [
              "<span style=\"color:blue\"> |-tuner/bracket: 2</span>"
            ],
            "text/plain": [
              "<IPython.core.display.HTML object>"
            ]
          },
          "metadata": {
            "tags": []
          }
        },
        {
          "output_type": "display_data",
          "data": {
            "text/html": [
              "<span style=\"color:cyan\"> |-tuner/epochs: 4</span>"
            ],
            "text/plain": [
              "<IPython.core.display.HTML object>"
            ]
          },
          "metadata": {
            "tags": []
          }
        },
        {
          "output_type": "display_data",
          "data": {
            "text/html": [
              "<span style=\"color:blue\"> |-tuner/initial_epoch: 2</span>"
            ],
            "text/plain": [
              "<IPython.core.display.HTML object>"
            ]
          },
          "metadata": {
            "tags": []
          }
        },
        {
          "output_type": "display_data",
          "data": {
            "text/html": [
              "<span style=\"color:cyan\"> |-tuner/round: 1</span>"
            ],
            "text/plain": [
              "<IPython.core.display.HTML object>"
            ]
          },
          "metadata": {
            "tags": []
          }
        },
        {
          "output_type": "display_data",
          "data": {
            "text/html": [
              "<span style=\"color:blue\"> |-tuner/trial_id: 085af343ced4858743cf2a6d697f4370</span>"
            ],
            "text/plain": [
              "<IPython.core.display.HTML object>"
            ]
          },
          "metadata": {
            "tags": []
          }
        },
        {
          "output_type": "stream",
          "text": [
            "Epoch 5/10\n",
            "WARNING:tensorflow:Layer cf_recommender is casting an input tensor from dtype float64 to the layer's dtype of float32, which is new behavior in TensorFlow 2.  The layer has dtype float32 because its dtype defaults to floatx.\n",
            "\n",
            "If you intended to run this layer in float32, you can safely ignore this warning. If in doubt, this warning is likely only an issue if you are porting a TensorFlow 1.X model to TensorFlow 2.\n",
            "\n",
            "To change all layers to have dtype float64 by default, call `tf.keras.backend.set_floatx('float64')`. To change just this layer, pass dtype='float64' to the layer constructor. If you are the author of this layer, you can disable autocasting by passing autocast=False to the base Layer constructor.\n",
            "\n"
          ],
          "name": "stdout"
        },
        {
          "output_type": "stream",
          "text": [
            "/usr/local/lib/python3.6/dist-packages/tensorflow/python/framework/indexed_slices.py:432: UserWarning: Converting sparse IndexedSlices to a dense Tensor of unknown shape. This may consume a large amount of memory.\n",
            "  \"Converting sparse IndexedSlices to a dense Tensor of unknown shape. \"\n"
          ],
          "name": "stderr"
        },
        {
          "output_type": "stream",
          "text": [
            "WARNING:tensorflow:Gradients do not exist for variables ['embedding_1/embeddings:0', 'embedding_3/embeddings:0'] when minimizing the loss.\n",
            "WARNING:tensorflow:Gradients do not exist for variables ['embedding_1/embeddings:0', 'embedding_3/embeddings:0'] when minimizing the loss.\n",
            "WARNING:tensorflow:Gradients do not exist for variables ['embedding_1/embeddings:0', 'embedding_3/embeddings:0'] when minimizing the loss.\n",
            "WARNING:tensorflow:Gradients do not exist for variables ['embedding_1/embeddings:0', 'embedding_3/embeddings:0'] when minimizing the loss.\n",
            "1718/1718 [==============================] - 11s 6ms/step - loss: 0.6160 - val_loss: 0.5947\n",
            "Epoch 6/10\n",
            "1718/1718 [==============================] - 11s 6ms/step - loss: 0.5905 - val_loss: 0.5926\n",
            "Epoch 7/10\n",
            "1015/1718 [================>.............]Buffered data was truncated after reaching the output size limit."
          ],
          "name": "stdout"
        }
      ]
    },
    {
      "cell_type": "markdown",
      "metadata": {
        "id": "NOlWrC7GcwEz",
        "colab_type": "text"
      },
      "source": [
        ""
      ]
    },
    {
      "cell_type": "code",
      "metadata": {
        "id": "Gq8YIvtIN6ah",
        "colab_type": "code",
        "colab": {}
      },
      "source": [
        "\n",
        "best_hps = tuner.get_best_hyperparameters(num_trials = 1)[0]"
      ],
      "execution_count": null,
      "outputs": []
    },
    {
      "cell_type": "code",
      "metadata": {
        "id": "nDUfGopZRkj5",
        "colab_type": "code",
        "colab": {
          "base_uri": "https://localhost:8080/",
          "height": 187
        },
        "outputId": "bc56b7bc-7cb7-495b-ce27-e222cd806451"
      },
      "source": [
        "\n",
        "print(f\"\"\"\n",
        "The hyperparameter search is complete. \n",
        "\n",
        "learning_rate = {best_hps.get('learning_rate')}\n",
        "embedding_size = {best_hps.get('embedding_size')}\n",
        "embeddings_initializer = {best_hps.get('embeddings_initializer')}\n",
        "embedding_regularization = {best_hps.get('embedding_regularization')}\n",
        "pure CF model = {best_hps.get('pure CF model')}\n",
        "\n",
        "\"\"\")"
      ],
      "execution_count": null,
      "outputs": [
        {
          "output_type": "stream",
          "text": [
            "\n",
            "The hyperparameter search is complete. \n",
            "\n",
            "learning_rate = 0.001\n",
            "embedding_size = 30\n",
            "embeddings_initializer = glorot_uniform\n",
            "embedding_regularization = 1e-06\n",
            "pure CF model = 1\n",
            "\n",
            "\n"
          ],
          "name": "stdout"
        }
      ]
    },
    {
      "cell_type": "code",
      "metadata": {
        "id": "lt8eOxgsRqKi",
        "colab_type": "code",
        "colab": {}
      },
      "source": [
        ""
      ],
      "execution_count": null,
      "outputs": []
    },
    {
      "cell_type": "markdown",
      "metadata": {
        "id": "Ovn0RGCu_QNA",
        "colab_type": "text"
      },
      "source": [
        "# Hit Rate on the 1m dataset  \n",
        "Not working. Hit rate is always 0. Find the bug."
      ]
    },
    {
      "cell_type": "code",
      "metadata": {
        "id": "1mBdVCnWCIeQ",
        "colab_type": "code",
        "colab": {}
      },
      "source": [
        "def split_train_eval(df_ratings, k):\n",
        "  \"\"\"\n",
        "  returns train set and eval set\n",
        "  \"\"\"\n",
        "  # df_ratings['user_mean_bias'] = user_mean_bias.loc[df_ratings['userId'].values].values                   #comment for v1\n",
        "  # df_ratings['movie_mean_bias'] = movie_mean_bias.loc[df_ratings['movieId'].values].values                   #comment for v1\n",
        "\n",
        "  leftOutPredictions =df_ratings.groupby('userId', as_index = False).apply(lambda x: x.iloc[-k:,:])\n",
        "  \n",
        "  # print(leftOutPredictions)\n",
        "\n",
        "  # df_ratings_train = df_ratings[~(df_ratings.isin(leftOutPredictions.values))]\n",
        "  df_ratings_train = df_ratings.groupby('userId', as_index = False).apply(lambda x: x.iloc[:-k,:])#.reset_index(drop = True,inplace =True)\n",
        "  df_ratings_train.index = pd.RangeIndex(len(df_ratings_train.index))\n",
        "\n",
        "  # display(df_ratings_train)\n",
        "\n",
        "  return df_ratings_train, leftOutPredictions"
      ],
      "execution_count": null,
      "outputs": []
    },
    {
      "cell_type": "code",
      "metadata": {
        "id": "ZNJUGS0lHQK0",
        "colab_type": "code",
        "colab": {}
      },
      "source": [
        "def mean_biases(df_ratings, k=1):\n",
        "  y_min = min(df_ratings['rating'].values)\n",
        "  y_max = max(df_ratings['rating'].values)\n",
        "\n",
        "  df_ratings['rating'] = (df_ratings['rating'] - y_min)/ (y_max - y_min)\n",
        "\n",
        "  # split_index = int(0.9*df_ratings.shape[0]) \n",
        "  df_ratings_train, df_ratings_test = split_train_eval(df_ratings, k)\n",
        "  # df_ratings_train, df_ratings_test = df_ratings.iloc[:split_index], df_ratings.iloc[split_index:]\n",
        "\n",
        "  global_avg = df_ratings_train['rating'].sum()/df_ratings_train.shape[0] \n",
        "  # print(global_avg)\n",
        "  user_mean_bias = df_ratings_train.groupby('userId')['rating'].agg('mean') - global_avg\n",
        "  movie_mean_bias = df_ratings_train.groupby('movieId')['rating'].agg('mean')  - global_avg\n",
        "\n",
        "  all_user_mean_bias = pd.Series(np.zeros(df_ratings['userId'].unique().max()+1))#, columns = ['userId']\n",
        "  all_movie_mean_bias = pd.Series(np.zeros(df_ratings['movieId'].unique().max()+1))#, columns = ['movieId']\n",
        "\n",
        "  all_user_mean_bias.update(user_mean_bias)#, overwrite = True\n",
        "  all_movie_mean_bias.update(movie_mean_bias)#, overwrite = True\n",
        "  \n",
        "  user_mean_bias = all_user_mean_bias\n",
        "  movie_mean_bias = all_movie_mean_bias\n",
        "  \n",
        "  return user_mean_bias, movie_mean_bias"
      ],
      "execution_count": null,
      "outputs": []
    },
    {
      "cell_type": "code",
      "metadata": {
        "id": "Cb5VNu-KCP_R",
        "colab_type": "code",
        "colab": {}
      },
      "source": [
        "def prepare_data_hitrate(df_ratings, k=1):\n",
        "\n",
        "  y_min = min(df_ratings['rating'].values)\n",
        "  y_max = max(df_ratings['rating'].values)\n",
        "\n",
        "  df_ratings['rating'] = (df_ratings['rating'] - y_min)/ (y_max - y_min)\n",
        "\n",
        "  split_index = int(0.9*df_ratings.shape[0]) \n",
        "  df_ratings_train, df_ratings_test = split_train_eval(df_ratings, k)\n",
        "  # df_ratings_train, df_ratings_test = df_ratings.iloc[:split_index], df_ratings.iloc[split_index:]\n",
        "\n",
        "  global_avg = df_ratings_train['rating'].sum()/df_ratings_train.shape[0] \n",
        "  # print(global_avg)\n",
        "  user_mean_bias = df_ratings_train.groupby('userId')['rating'].agg('mean') - global_avg\n",
        "  movie_mean_bias = df_ratings_train.groupby('movieId')['rating'].agg('mean')  - global_avg\n",
        "\n",
        "  all_user_mean_bias = pd.Series(np.zeros(df_ratings['userId'].unique().max()+1))#, columns = ['userId']\n",
        "  all_movie_mean_bias = pd.Series(np.zeros(df_ratings['movieId'].unique().max()+1))#, columns = ['movieId']\n",
        "\n",
        "  all_user_mean_bias.update(user_mean_bias)#, overwrite = True\n",
        "  all_movie_mean_bias.update(movie_mean_bias)#, overwrite = True\n",
        "  \n",
        "  user_mean_bias = all_user_mean_bias\n",
        "  movie_mean_bias = all_movie_mean_bias\n",
        "  \n",
        "  df_ratings_train['user_mean_bias'] = user_mean_bias.loc[df_ratings_train['userId'].values].values\n",
        "  df_ratings_train['movie_mean_bias'] = movie_mean_bias.loc[df_ratings_train['movieId'].values].values\n",
        "\n",
        "  df_ratings_test['user_mean_bias'] = user_mean_bias.loc[df_ratings_test['userId'].values].values\n",
        "  df_ratings_test['movie_mean_bias'] = movie_mean_bias.loc[df_ratings_test['movieId'].values].values\n",
        "\n",
        "  # x_train, x_test, y_train, y_test = df_ratings_train[['userId', 'movieId','user_mean_bias','movie_mean_bias']], df_ratings_test[['userId', 'movieId','user_mean_bias','movie_mean_bias']], df_ratings_train[['rating']], df_ratings_test[['rating']]\n",
        "  \n",
        "  # return x_train, x_test, y_train, y_test, global_avg\n",
        "  return df_ratings_train, df_ratings_test"
      ],
      "execution_count": null,
      "outputs": []
    },
    {
      "cell_type": "code",
      "metadata": {
        "id": "Hx4d_NH4o0ad",
        "colab_type": "code",
        "colab": {}
      },
      "source": [
        "# df_ratings_train, leftOutPredictions = prepare_data_hitrate(df_ratings)"
      ],
      "execution_count": null,
      "outputs": []
    },
    {
      "cell_type": "code",
      "metadata": {
        "id": "Hh_hsl_z7wPC",
        "colab_type": "code",
        "colab": {}
      },
      "source": [
        "\n",
        "def HitRate(topNPredicted, leftOutPredictions): \n",
        "  '''\n",
        "  leftOutPredictions : numpy array of the last rating from each user (num_users,3 ie userid, movieid, predictedRating)\n",
        "  topNPredicted : numpy array of the top N predicted movies for each user (num_users, N ie top, 3 ie movied, predictedRating)\n",
        "  '''\n",
        "  hits = 0.0\n",
        "  total = 0.0\n",
        "  # print(leftOutPredictions)\n",
        " # For each left-out rating\n",
        "  for leftOut in leftOutPredictions:\n",
        "      userID = leftOut[0]\n",
        "      # print(userID)\n",
        "      leftOutMovieID = leftOut[1]\n",
        "      # print(\"leftOutMovieID=\",leftOutMovieID)\n",
        "      # print(leftOutMovieID)\n",
        "      # Is it in the predicted top 10 for this user?\n",
        "      hit = False\n",
        "      for predicted in topNPredicted[int(userID)-1]:\n",
        "          movieID, predictedRating = predicted[0], predicted[1]\n",
        "          # print(\"(movieID)=\",int(movieID))\n",
        "          if (int(leftOutMovieID) == int(movieID)):\n",
        "              hit = True\n",
        "              break\n",
        "      if (hit) :\n",
        "          hits += 1.0\n",
        "\n",
        "      total += 1.0\n",
        "\n",
        "  # Compute overall precision\n",
        "  return (hits*1.0)/(total*1.0)\n",
        "\n",
        "# print(\"\\nHit Rate: \", HitRate(topNPredicted, leftOutPredictions))"
      ],
      "execution_count": null,
      "outputs": []
    },
    {
      "cell_type": "code",
      "metadata": {
        "id": "okuJAmxTi6uX",
        "colab_type": "code",
        "colab": {}
      },
      "source": [
        "def not_watched(model, leftOutPredictions, df_ratings):\n",
        "  # predictions = model.predict(leftOutPrediction.iloc[:,0], batch_size = BATCH_SIZE_P).flatten()\n",
        "\n",
        "  users = leftOutPredictions.iloc[:,0]    #series of users\n",
        "  # movies = df_movies['movieId']\n",
        "  movies = df_ratings['movieId'].unique()\n",
        "\n",
        "  user_mean_bias , movie_mean_bias =  mean_biases(df_ratings)  \n",
        "  # display(users)\n",
        "  # display(movies)\n",
        "\n",
        "  df_all = pd.DataFrame([(i,s) for i in users for s in movies], columns = ['userId','movieId'])\n",
        "\n",
        "  df_all['user_mean_bias'] = user_mean_bias.loc[df_all['userId'].values].values     \n",
        "  df_all['movie_mean_bias'] = movie_mean_bias.loc[df_all['movieId'].values].values     \n",
        "\n",
        "  # display(df_all)\n",
        "\n",
        "  # display(df_ratings)\n",
        "  # df = pd.DataFrame([(i, s) for i in id for s in st], columns=['id', 'st'])\n",
        "  movies_not_watched = df_all.merge(df_ratings[['userId','movieId']],how = 'outer',on = ['userId','movieId'], indicator = True)\n",
        "  # merged = pd.merge(A,B, how='outer', indicator=True)\n",
        "  # merged[merged['_merge'] == 'left_only']\n",
        "  movies_not_watched = movies_not_watched[movies_not_watched['_merge'] == 'left_only']\n",
        "  movies_not_watched.drop(columns = ['_merge'], inplace = True)\n",
        "  movies_not_watched.reset_index(drop = True, inplace = True)\n",
        "  # movies_not_watched = movies_not_watched[['userId','movieId']]\n",
        "  \n",
        "  # display(movies_not_watched)\n",
        "\n",
        "  \n",
        "  # print(ratings.shape)\n",
        "  # print(movies_not_watched.shape)\n",
        "\n",
        "  #BATCH_SIZE_P should be divisible by \n",
        "  BATCH_SIZE_P = 512 #98    #142 #33\n",
        "  #\n",
        "  # print(np.reshape(np.array(movies_not_watched.values, dtype = np.float),(-1,4)).shape)\n",
        "\n",
        "  ratings = model.predict(np.reshape(np.array(movies_not_watched.values, dtype = np.float),(-1,4)), verbose = 2, batch_size = BATCH_SIZE_P)#.flatten() ##remove .iloc for V1 model\n",
        "  movies_not_watched['ratings'] = ratings\n",
        "\n",
        "  return movies_not_watched"
      ],
      "execution_count": null,
      "outputs": []
    },
    {
      "cell_type": "code",
      "metadata": {
        "id": "kFFrwAWy7VVy",
        "colab_type": "code",
        "colab": {}
      },
      "source": [
        "def predictN(movies_not_watched, N):\n",
        " \n",
        "  print(\"movies_not_watched: \",movies_not_watched.shape)\n",
        "  movies_not_watched['new']=movies_not_watched.groupby('userId').cumcount()\n",
        "  df_true=movies_not_watched.set_index(['userId','new']).unstack(fill_value=0).stack(dropna=False).reset_index('userId').reset_index( drop = True)\n",
        "  print(\"df_true:\", df_true.shape)\n",
        "  topN = df_true.groupby('userId')[['movieId','ratings']].apply(lambda x: x.nlargest(N, columns=['ratings']))  #.sort_values(by = 'ratings', ascending = False)[:N] #['movieId']\n",
        "  display(\"topN: \",topN.shape)\n",
        "  \n",
        "  # print(\"topN.values.shape\",topN.values.shape)\n",
        "\n",
        "  # print(topN.values)\n",
        "  # print(\"np.array(topN).shape\",np.array(topN).shape)\n",
        "  # print(\"np.array(topN.values).shape\",np.array(topN.values).shape)\n",
        "  topN_array = np.reshape(np.array(topN),newshape = (6040, N,2))\n",
        "  \n",
        "  # print(topN.values)\n",
        "\n",
        "\n",
        "  return topN_array\n",
        "\n"
      ],
      "execution_count": null,
      "outputs": []
    },
    {
      "cell_type": "code",
      "metadata": {
        "id": "J4vR0D4MaP1o",
        "colab_type": "code",
        "colab": {}
      },
      "source": [
        "# movies_not_watched = not_watched(model, leftOutPredictions)"
      ],
      "execution_count": null,
      "outputs": []
    },
    {
      "cell_type": "code",
      "metadata": {
        "id": "LT8KgzY0dNWr",
        "colab_type": "code",
        "colab": {}
      },
      "source": [
        "# topNpredicted = predictN(movies_not_watched, 1000)\n",
        "# HitRate(topNpredicted,leftOutPredictions.values)#topNpredicted"
      ],
      "execution_count": null,
      "outputs": []
    },
    {
      "cell_type": "code",
      "metadata": {
        "id": "RgmJoyA_OGAg",
        "colab_type": "code",
        "colab": {}
      },
      "source": [
        "import matplotlib.pyplot as plt\n",
        "\n",
        "def evaluate_hitrate(df_ratings, model,minN=10, maxN = 2000):      #, model,df_movies\n",
        "  \n",
        "\n",
        "  df_ratings_train, leftOutPredictions = prepare_data_hitrate(df_ratings)    #leftOutPrediction : (num_user, 5)\n",
        "\n",
        "  # model = getModel()\n",
        "  # model = CFmodel(num_users = num_users, num_movies=num_movies, global_avg = global_avg,hparam =hparam)\n",
        "  # model = train_CFmodel(model, x_train, y_train, x_test, y_test)\n",
        "  \n",
        "  # model = train_model(model, df_ratings_train)\n",
        "  movies_not_watched = not_watched(model, leftOutPredictions,df_ratings)\n",
        "  # topNpredicted = predictN(movies_not_watched, 10)\n",
        "\n",
        "  hit_list = []\n",
        "  for n in range(minN,maxN+1):\n",
        "    topNPredicted = predictN(movies_not_watched,n)\n",
        "    hit_rate = HitRate(topNPredicted, leftOutPredictions.values)\n",
        "    print(\"Hit rate at \",n,\":= \",hit_rate)\n",
        "    hit_list.append(hit_rate)\n",
        "  \n",
        "  return hit_list\n",
        "\n",
        "\n",
        "  # plot(hit_list)\n",
        "\n",
        "  \n",
        "\n",
        "  '''user : the subset of df_ratings for which user = userid'''\n",
        "  # user = df_ratings[df_ratings['userId']==user_id]\n",
        "  # movies_watched_id = user[\"movieId\"]           #df_ratings[ df_ratings['movieId'].isin(user['movieId'].unique())]['movieId']\n",
        "  # print(movies_watched_id)\n",
        "\n",
        "  '''movies watched : contains names of the movies the user has watched'''\n",
        "  # movies_watched = df_movies[df_movies['movieId'].isin(movies_watched_id)]['title']                   #.reset_index() \n",
        "  # movies_loved = df_movies[df_movies['movieId'].isin(user[user['rating'].values>0.6].sort_values(by = 'rating', ascending = False)['movieId'])][:30][['title','genres']]\n",
        "\n",
        "  # print(\"Movies user {} loved! : \".format(user_id))\n",
        "  # print(\"*\"*30)\n",
        "  # display(movies_loved.head(20))\n",
        "  \n",
        "  # print(\"*\"*30) \n"
      ],
      "execution_count": null,
      "outputs": []
    },
    {
      "cell_type": "code",
      "metadata": {
        "id": "GWFODBxSK-AU",
        "colab_type": "code",
        "colab": {}
      },
      "source": [
        "# x = evaluate(x_aug,model,20,200)\n",
        "saved = True\n",
        "\n",
        "if saved:\n",
        "  model = saved_model()\n",
        "else:\n",
        "  model = CFmodel(num_users = num_users, num_movies=num_movies, global_avg = global_avg,hparam =hparam)\n",
        "  "
      ],
      "execution_count": null,
      "outputs": []
    },
    {
      "cell_type": "code",
      "metadata": {
        "id": "6s1Adhxs_XJe",
        "colab_type": "code",
        "colab": {
          "base_uri": "https://localhost:8080/",
          "height": 478
        },
        "outputId": "7fbc52b0-1a8a-47d8-92bb-92c3a21def21"
      },
      "source": [
        "hitrate_result = evaluate_hitrate(df_ratings, model,minN=3930, maxN = 3952)\n",
        "hitrate_result"
      ],
      "execution_count": null,
      "outputs": [
        {
          "output_type": "stream",
          "text": [
            "41766/41766 - 43s\n",
            "movies_not_watched:  (21384031, 5)\n",
            "df_true: (22263440, 5)\n"
          ],
          "name": "stdout"
        },
        {
          "output_type": "display_data",
          "data": {
            "application/vnd.google.colaboratory.intrinsic+json": {
              "type": "string"
            },
            "text/plain": [
              "'topN: '"
            ]
          },
          "metadata": {
            "tags": []
          }
        },
        {
          "output_type": "display_data",
          "data": {
            "text/plain": [
              "(22263440, 2)"
            ]
          },
          "metadata": {
            "tags": []
          }
        },
        {
          "output_type": "error",
          "ename": "ValueError",
          "evalue": "ignored",
          "traceback": [
            "\u001b[0;31m---------------------------------------------------------------------------\u001b[0m",
            "\u001b[0;31mValueError\u001b[0m                                Traceback (most recent call last)",
            "\u001b[0;32m<ipython-input-104-0cc90a0d56cf>\u001b[0m in \u001b[0;36m<module>\u001b[0;34m()\u001b[0m\n\u001b[0;32m----> 1\u001b[0;31m \u001b[0mhitrate_result\u001b[0m \u001b[0;34m=\u001b[0m \u001b[0mevaluate_hitrate\u001b[0m\u001b[0;34m(\u001b[0m\u001b[0mdf_ratings\u001b[0m\u001b[0;34m,\u001b[0m \u001b[0mmodel\u001b[0m\u001b[0;34m,\u001b[0m\u001b[0mminN\u001b[0m\u001b[0;34m=\u001b[0m\u001b[0;36m3930\u001b[0m\u001b[0;34m,\u001b[0m \u001b[0mmaxN\u001b[0m \u001b[0;34m=\u001b[0m \u001b[0;36m3952\u001b[0m\u001b[0;34m)\u001b[0m\u001b[0;34m\u001b[0m\u001b[0;34m\u001b[0m\u001b[0m\n\u001b[0m\u001b[1;32m      2\u001b[0m \u001b[0mhitrate_result\u001b[0m\u001b[0;34m\u001b[0m\u001b[0;34m\u001b[0m\u001b[0m\n",
            "\u001b[0;32m<ipython-input-91-cd7530c55dc5>\u001b[0m in \u001b[0;36mevaluate_hitrate\u001b[0;34m(df_ratings, model, minN, maxN)\u001b[0m\n\u001b[1;32m     16\u001b[0m   \u001b[0mhit_list\u001b[0m \u001b[0;34m=\u001b[0m \u001b[0;34m[\u001b[0m\u001b[0;34m]\u001b[0m\u001b[0;34m\u001b[0m\u001b[0;34m\u001b[0m\u001b[0m\n\u001b[1;32m     17\u001b[0m   \u001b[0;32mfor\u001b[0m \u001b[0mn\u001b[0m \u001b[0;32min\u001b[0m \u001b[0mrange\u001b[0m\u001b[0;34m(\u001b[0m\u001b[0mminN\u001b[0m\u001b[0;34m,\u001b[0m\u001b[0mmaxN\u001b[0m\u001b[0;34m+\u001b[0m\u001b[0;36m1\u001b[0m\u001b[0;34m)\u001b[0m\u001b[0;34m:\u001b[0m\u001b[0;34m\u001b[0m\u001b[0;34m\u001b[0m\u001b[0m\n\u001b[0;32m---> 18\u001b[0;31m     \u001b[0mtopNPredicted\u001b[0m \u001b[0;34m=\u001b[0m \u001b[0mpredictN\u001b[0m\u001b[0;34m(\u001b[0m\u001b[0mmovies_not_watched\u001b[0m\u001b[0;34m,\u001b[0m\u001b[0mn\u001b[0m\u001b[0;34m)\u001b[0m\u001b[0;34m\u001b[0m\u001b[0;34m\u001b[0m\u001b[0m\n\u001b[0m\u001b[1;32m     19\u001b[0m     \u001b[0mhit_rate\u001b[0m \u001b[0;34m=\u001b[0m \u001b[0mHitRate\u001b[0m\u001b[0;34m(\u001b[0m\u001b[0mtopNPredicted\u001b[0m\u001b[0;34m,\u001b[0m \u001b[0mleftOutPredictions\u001b[0m\u001b[0;34m.\u001b[0m\u001b[0mvalues\u001b[0m\u001b[0;34m)\u001b[0m\u001b[0;34m\u001b[0m\u001b[0;34m\u001b[0m\u001b[0m\n\u001b[1;32m     20\u001b[0m     \u001b[0mprint\u001b[0m\u001b[0;34m(\u001b[0m\u001b[0;34m\"Hit rate at \"\u001b[0m\u001b[0;34m,\u001b[0m\u001b[0mn\u001b[0m\u001b[0;34m,\u001b[0m\u001b[0;34m\":= \"\u001b[0m\u001b[0;34m,\u001b[0m\u001b[0mhit_rate\u001b[0m\u001b[0;34m)\u001b[0m\u001b[0;34m\u001b[0m\u001b[0;34m\u001b[0m\u001b[0m\n",
            "\u001b[0;32m<ipython-input-88-5c0991c70a10>\u001b[0m in \u001b[0;36mpredictN\u001b[0;34m(movies_not_watched, N)\u001b[0m\n\u001b[1;32m     13\u001b[0m   \u001b[0;31m# print(\"np.array(topN).shape\",np.array(topN).shape)\u001b[0m\u001b[0;34m\u001b[0m\u001b[0;34m\u001b[0m\u001b[0;34m\u001b[0m\u001b[0m\n\u001b[1;32m     14\u001b[0m   \u001b[0;31m# print(\"np.array(topN.values).shape\",np.array(topN.values).shape)\u001b[0m\u001b[0;34m\u001b[0m\u001b[0;34m\u001b[0m\u001b[0;34m\u001b[0m\u001b[0m\n\u001b[0;32m---> 15\u001b[0;31m   \u001b[0mtopN_array\u001b[0m \u001b[0;34m=\u001b[0m \u001b[0mnp\u001b[0m\u001b[0;34m.\u001b[0m\u001b[0mreshape\u001b[0m\u001b[0;34m(\u001b[0m\u001b[0mnp\u001b[0m\u001b[0;34m.\u001b[0m\u001b[0marray\u001b[0m\u001b[0;34m(\u001b[0m\u001b[0mtopN\u001b[0m\u001b[0;34m)\u001b[0m\u001b[0;34m,\u001b[0m\u001b[0mnewshape\u001b[0m \u001b[0;34m=\u001b[0m \u001b[0;34m(\u001b[0m\u001b[0;36m6040\u001b[0m\u001b[0;34m,\u001b[0m \u001b[0mN\u001b[0m\u001b[0;34m,\u001b[0m\u001b[0;36m2\u001b[0m\u001b[0;34m)\u001b[0m\u001b[0;34m)\u001b[0m\u001b[0;34m\u001b[0m\u001b[0;34m\u001b[0m\u001b[0m\n\u001b[0m\u001b[1;32m     16\u001b[0m \u001b[0;34m\u001b[0m\u001b[0m\n\u001b[1;32m     17\u001b[0m   \u001b[0;31m# print(topN.values)\u001b[0m\u001b[0;34m\u001b[0m\u001b[0;34m\u001b[0m\u001b[0;34m\u001b[0m\u001b[0m\n",
            "\u001b[0;32m<__array_function__ internals>\u001b[0m in \u001b[0;36mreshape\u001b[0;34m(*args, **kwargs)\u001b[0m\n",
            "\u001b[0;32m/usr/local/lib/python3.6/dist-packages/numpy/core/fromnumeric.py\u001b[0m in \u001b[0;36mreshape\u001b[0;34m(a, newshape, order)\u001b[0m\n\u001b[1;32m    299\u001b[0m            [5, 6]])\n\u001b[1;32m    300\u001b[0m     \"\"\"\n\u001b[0;32m--> 301\u001b[0;31m     \u001b[0;32mreturn\u001b[0m \u001b[0m_wrapfunc\u001b[0m\u001b[0;34m(\u001b[0m\u001b[0ma\u001b[0m\u001b[0;34m,\u001b[0m \u001b[0;34m'reshape'\u001b[0m\u001b[0;34m,\u001b[0m \u001b[0mnewshape\u001b[0m\u001b[0;34m,\u001b[0m \u001b[0morder\u001b[0m\u001b[0;34m=\u001b[0m\u001b[0morder\u001b[0m\u001b[0;34m)\u001b[0m\u001b[0;34m\u001b[0m\u001b[0;34m\u001b[0m\u001b[0m\n\u001b[0m\u001b[1;32m    302\u001b[0m \u001b[0;34m\u001b[0m\u001b[0m\n\u001b[1;32m    303\u001b[0m \u001b[0;34m\u001b[0m\u001b[0m\n",
            "\u001b[0;32m/usr/local/lib/python3.6/dist-packages/numpy/core/fromnumeric.py\u001b[0m in \u001b[0;36m_wrapfunc\u001b[0;34m(obj, method, *args, **kwds)\u001b[0m\n\u001b[1;32m     59\u001b[0m \u001b[0;34m\u001b[0m\u001b[0m\n\u001b[1;32m     60\u001b[0m     \u001b[0;32mtry\u001b[0m\u001b[0;34m:\u001b[0m\u001b[0;34m\u001b[0m\u001b[0;34m\u001b[0m\u001b[0m\n\u001b[0;32m---> 61\u001b[0;31m         \u001b[0;32mreturn\u001b[0m \u001b[0mbound\u001b[0m\u001b[0;34m(\u001b[0m\u001b[0;34m*\u001b[0m\u001b[0margs\u001b[0m\u001b[0;34m,\u001b[0m \u001b[0;34m**\u001b[0m\u001b[0mkwds\u001b[0m\u001b[0;34m)\u001b[0m\u001b[0;34m\u001b[0m\u001b[0;34m\u001b[0m\u001b[0m\n\u001b[0m\u001b[1;32m     62\u001b[0m     \u001b[0;32mexcept\u001b[0m \u001b[0mTypeError\u001b[0m\u001b[0;34m:\u001b[0m\u001b[0;34m\u001b[0m\u001b[0;34m\u001b[0m\u001b[0m\n\u001b[1;32m     63\u001b[0m         \u001b[0;31m# A TypeError occurs if the object does have such a method in its\u001b[0m\u001b[0;34m\u001b[0m\u001b[0;34m\u001b[0m\u001b[0;34m\u001b[0m\u001b[0m\n",
            "\u001b[0;31mValueError\u001b[0m: cannot reshape array of size 44526880 into shape (6040,3930,2)"
          ]
        }
      ]
    },
    {
      "cell_type": "code",
      "metadata": {
        "id": "o8-_ctSIGLsD",
        "colab_type": "code",
        "colab": {}
      },
      "source": [
        ""
      ],
      "execution_count": null,
      "outputs": []
    },
    {
      "cell_type": "markdown",
      "metadata": {
        "id": "CeYvhQC3kEco",
        "colab_type": "text"
      },
      "source": [
        "# Visualizing the embeddings\n",
        "Use df_movies and embedding data of all movies to make an altair plot of the tSNE on embeddings clustered by genre."
      ]
    },
    {
      "cell_type": "markdown",
      "metadata": {
        "id": "Yd-ZXEMbKAk3",
        "colab_type": "text"
      },
      "source": [
        "# To do  \n",
        "1. Ensure that all user bias which havent been updated from the training dataset are initialized to mu instead of 0.  \n",
        "  \n",
        "  Prepare data-> prepare_data_leftout->all_user_mean_bias = pd.Series(np.zeros(df_ratings['userId'].unique().max()+1))\n",
        "    \n",
        "    change this to all_user_mean_bias = pd.Series(np.zeroslike(df_ratings['userId'].unique().max()+1), mu)\n",
        "\n",
        "    Retrain and evaluate the accuracy\n",
        "  \n",
        "\n",
        "2. Analyse the hitrate functions and manually check one example to see where is the error.  \n",
        "\n",
        "    Even random guessing should give >0 hitrate when N=3500(total movies ~= 3880)\n",
        "\n",
        "\n",
        "3. Recover 22.6 rmse. This was obtained before the model tuning.\n",
        "\n",
        "4. tSNE on Embeddings, add it to df_movies and cluster according to genre. Plot suing Altair. References: Google developers recommender system link has a plot.\n",
        "\n",
        "5. **Publish it to Github**"
      ]
    },
    {
      "cell_type": "code",
      "metadata": {
        "id": "QTItQFcRK_XZ",
        "colab_type": "code",
        "colab": {
          "base_uri": "https://localhost:8080/",
          "height": 231
        },
        "outputId": "3cdf96a5-76ed-4972-ad6c-f85d7f9cd8de"
      },
      "source": [
        "# df = pd.DataFrame({\"id\": [100, 200, 200, 300, 300, 300], \"val1\": [1.5, 2.5, 4.5, np.nan, 6.5, np.nan], \"val2\": [9.5, 7.5, 8.5, 3.5, np.nan, np.nan]})\n",
        "# df"
      ],
      "execution_count": null,
      "outputs": [
        {
          "output_type": "execute_result",
          "data": {
            "text/html": [
              "<div>\n",
              "<style scoped>\n",
              "    .dataframe tbody tr th:only-of-type {\n",
              "        vertical-align: middle;\n",
              "    }\n",
              "\n",
              "    .dataframe tbody tr th {\n",
              "        vertical-align: top;\n",
              "    }\n",
              "\n",
              "    .dataframe thead th {\n",
              "        text-align: right;\n",
              "    }\n",
              "</style>\n",
              "<table border=\"1\" class=\"dataframe\">\n",
              "  <thead>\n",
              "    <tr style=\"text-align: right;\">\n",
              "      <th></th>\n",
              "      <th>id</th>\n",
              "      <th>val1</th>\n",
              "      <th>val2</th>\n",
              "    </tr>\n",
              "  </thead>\n",
              "  <tbody>\n",
              "    <tr>\n",
              "      <th>0</th>\n",
              "      <td>100</td>\n",
              "      <td>1.5</td>\n",
              "      <td>9.5</td>\n",
              "    </tr>\n",
              "    <tr>\n",
              "      <th>1</th>\n",
              "      <td>200</td>\n",
              "      <td>2.5</td>\n",
              "      <td>7.5</td>\n",
              "    </tr>\n",
              "    <tr>\n",
              "      <th>2</th>\n",
              "      <td>200</td>\n",
              "      <td>4.5</td>\n",
              "      <td>8.5</td>\n",
              "    </tr>\n",
              "    <tr>\n",
              "      <th>3</th>\n",
              "      <td>300</td>\n",
              "      <td>NaN</td>\n",
              "      <td>3.5</td>\n",
              "    </tr>\n",
              "    <tr>\n",
              "      <th>4</th>\n",
              "      <td>300</td>\n",
              "      <td>6.5</td>\n",
              "      <td>NaN</td>\n",
              "    </tr>\n",
              "    <tr>\n",
              "      <th>5</th>\n",
              "      <td>300</td>\n",
              "      <td>NaN</td>\n",
              "      <td>NaN</td>\n",
              "    </tr>\n",
              "  </tbody>\n",
              "</table>\n",
              "</div>"
            ],
            "text/plain": [
              "    id  val1  val2\n",
              "0  100   1.5   9.5\n",
              "1  200   2.5   7.5\n",
              "2  200   4.5   8.5\n",
              "3  300   NaN   3.5\n",
              "4  300   6.5   NaN\n",
              "5  300   NaN   NaN"
            ]
          },
          "metadata": {
            "tags": []
          },
          "execution_count": 74
        }
      ]
    },
    {
      "cell_type": "code",
      "metadata": {
        "id": "B-Y91876bxwa",
        "colab_type": "code",
        "colab": {
          "base_uri": "https://localhost:8080/",
          "height": 323
        },
        "outputId": "14c4253c-7e8d-4c53-d2a6-79ba22fec324"
      },
      "source": [
        "# df['new']=df.groupby('id').cumcount()\n",
        "# df_true=df.set_index(['id','new']).unstack(fill_value=0).stack(dropna=False).reset_index('id').reset_index( drop = True)\n",
        "# display(df_true)"
      ],
      "execution_count": null,
      "outputs": [
        {
          "output_type": "display_data",
          "data": {
            "text/html": [
              "<div>\n",
              "<style scoped>\n",
              "    .dataframe tbody tr th:only-of-type {\n",
              "        vertical-align: middle;\n",
              "    }\n",
              "\n",
              "    .dataframe tbody tr th {\n",
              "        vertical-align: top;\n",
              "    }\n",
              "\n",
              "    .dataframe thead th {\n",
              "        text-align: right;\n",
              "    }\n",
              "</style>\n",
              "<table border=\"1\" class=\"dataframe\">\n",
              "  <thead>\n",
              "    <tr style=\"text-align: right;\">\n",
              "      <th></th>\n",
              "      <th>id</th>\n",
              "      <th>val1</th>\n",
              "      <th>val2</th>\n",
              "    </tr>\n",
              "  </thead>\n",
              "  <tbody>\n",
              "    <tr>\n",
              "      <th>0</th>\n",
              "      <td>100</td>\n",
              "      <td>1.5</td>\n",
              "      <td>9.5</td>\n",
              "    </tr>\n",
              "    <tr>\n",
              "      <th>1</th>\n",
              "      <td>100</td>\n",
              "      <td>0.0</td>\n",
              "      <td>0.0</td>\n",
              "    </tr>\n",
              "    <tr>\n",
              "      <th>2</th>\n",
              "      <td>100</td>\n",
              "      <td>0.0</td>\n",
              "      <td>0.0</td>\n",
              "    </tr>\n",
              "    <tr>\n",
              "      <th>3</th>\n",
              "      <td>200</td>\n",
              "      <td>2.5</td>\n",
              "      <td>7.5</td>\n",
              "    </tr>\n",
              "    <tr>\n",
              "      <th>4</th>\n",
              "      <td>200</td>\n",
              "      <td>4.5</td>\n",
              "      <td>8.5</td>\n",
              "    </tr>\n",
              "    <tr>\n",
              "      <th>5</th>\n",
              "      <td>200</td>\n",
              "      <td>0.0</td>\n",
              "      <td>0.0</td>\n",
              "    </tr>\n",
              "    <tr>\n",
              "      <th>6</th>\n",
              "      <td>300</td>\n",
              "      <td>NaN</td>\n",
              "      <td>3.5</td>\n",
              "    </tr>\n",
              "    <tr>\n",
              "      <th>7</th>\n",
              "      <td>300</td>\n",
              "      <td>6.5</td>\n",
              "      <td>NaN</td>\n",
              "    </tr>\n",
              "    <tr>\n",
              "      <th>8</th>\n",
              "      <td>300</td>\n",
              "      <td>NaN</td>\n",
              "      <td>NaN</td>\n",
              "    </tr>\n",
              "  </tbody>\n",
              "</table>\n",
              "</div>"
            ],
            "text/plain": [
              "    id  val1  val2\n",
              "0  100   1.5   9.5\n",
              "1  100   0.0   0.0\n",
              "2  100   0.0   0.0\n",
              "3  200   2.5   7.5\n",
              "4  200   4.5   8.5\n",
              "5  200   0.0   0.0\n",
              "6  300   NaN   3.5\n",
              "7  300   6.5   NaN\n",
              "8  300   NaN   NaN"
            ]
          },
          "metadata": {
            "tags": []
          }
        }
      ]
    },
    {
      "cell_type": "code",
      "metadata": {
        "id": "870U5aq4b1g9",
        "colab_type": "code",
        "colab": {
          "base_uri": "https://localhost:8080/",
          "height": 34
        },
        "outputId": "e556a7fb-95bb-49ef-c4ad-2d8d120946b7"
      },
      "source": [
        "# df_true.columns"
      ],
      "execution_count": null,
      "outputs": [
        {
          "output_type": "execute_result",
          "data": {
            "text/plain": [
              "Index(['id', 'val1', 'val2'], dtype='object')"
            ]
          },
          "metadata": {
            "tags": []
          },
          "execution_count": 85
        }
      ]
    },
    {
      "cell_type": "code",
      "metadata": {
        "id": "Fb7FAPsGb5wJ",
        "colab_type": "code",
        "colab": {}
      },
      "source": [
        "# df_true.index.name"
      ],
      "execution_count": null,
      "outputs": []
    },
    {
      "cell_type": "code",
      "metadata": {
        "id": "0hXOB8p_cJPA",
        "colab_type": "code",
        "colab": {
          "base_uri": "https://localhost:8080/",
          "height": 34
        },
        "outputId": "20228407-338c-4c20-c35f-9201fa332f62"
      },
      "source": [
        "# df_true.index"
      ],
      "execution_count": null,
      "outputs": [
        {
          "output_type": "execute_result",
          "data": {
            "text/plain": [
              "RangeIndex(start=0, stop=9, step=1)"
            ]
          },
          "metadata": {
            "tags": []
          },
          "execution_count": 87
        }
      ]
    },
    {
      "cell_type": "code",
      "metadata": {
        "id": "x1NdoI1ucLSc",
        "colab_type": "code",
        "colab": {}
      },
      "source": [
        ""
      ],
      "execution_count": null,
      "outputs": []
    }
  ]
}